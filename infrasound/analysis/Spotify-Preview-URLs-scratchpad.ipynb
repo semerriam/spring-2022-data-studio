{
 "cells": [
  {
   "cell_type": "markdown",
   "id": "eb0c1120",
   "metadata": {},
   "source": [
    "# Downloading Spotify Preview URLs"
   ]
  },
  {
   "cell_type": "code",
   "execution_count": 1,
   "id": "c2839615",
   "metadata": {},
   "outputs": [
    {
     "name": "stderr",
     "output_type": "stream",
     "text": [
      "/Users/sm/.pyenv/versions/3.10.0/lib/python3.10/site-packages/pandas/compat/__init__.py:124: UserWarning: Could not import the lzma module. Your installed Python is incomplete. Attempting to use lzma compression will result in a RuntimeError.\n",
      "  warnings.warn(msg)\n"
     ]
    }
   ],
   "source": [
    "# All of the necessary imports\n",
    "import pandas as pd\n",
    "\n",
    "import time\n",
    "\n",
    "from selenium import webdriver\n",
    "from selenium.webdriver.common.by import By\n",
    "from selenium.webdriver.support.ui import WebDriverWait\n",
    "from selenium.webdriver.support import expected_conditions as EC\n",
    "from selenium.webdriver.support.ui import Select\n",
    "\n",
    "from webdriver_manager.chrome import ChromeDriverManager"
   ]
  },
  {
   "cell_type": "code",
   "execution_count": 2,
   "id": "fc1bf7b9",
   "metadata": {},
   "outputs": [],
   "source": [
    "from html.parser import HTMLParser\n",
    "import requests\n",
    "from bs4 import BeautifulSoup\n",
    "import re\n",
    "import pandas as pd\n",
    "import matplotlib.pyplot as plt\n",
    "import numpy as np\n",
    "from html.parser import HTMLParser\n",
    "import requests\n",
    "from bs4 import BeautifulSoup as bs\n",
    "import re\n",
    "import random\n",
    "import os.path"
   ]
  },
  {
   "cell_type": "code",
   "execution_count": 3,
   "id": "58fcced3",
   "metadata": {},
   "outputs": [
    {
     "name": "stderr",
     "output_type": "stream",
     "text": [
      "\n",
      "\n",
      "====== WebDriver manager ======\n",
      "Current google-chrome version is 99.0.4844\n",
      "Get LATEST chromedriver version for 99.0.4844 google-chrome\n",
      "Driver [/Users/sm/.wdm/drivers/chromedriver/mac64/99.0.4844.51/chromedriver] found in cache\n",
      "/var/folders/c2/zngcssg14mv23nw0yr96s0wm0000gn/T/ipykernel_26807/4290991195.py:2: DeprecationWarning: executable_path has been deprecated, please pass in a Service object\n",
      "  driver = webdriver.Chrome(ChromeDriverManager().install())\n"
     ]
    }
   ],
   "source": [
    "# Launch a new Chrome, install the appropriate ChromeDriver if necessary\n",
    "driver = webdriver.Chrome(ChromeDriverManager().install())"
   ]
  },
  {
   "cell_type": "markdown",
   "id": "5bb15628",
   "metadata": {},
   "source": [
    "##### Test"
   ]
  },
  {
   "cell_type": "code",
   "execution_count": 4,
   "id": "22f96be1",
   "metadata": {},
   "outputs": [],
   "source": [
    "test_track1 = 'https://p.scdn.co/mp3-preview/7533f18e00ab0ccd738da201f5e5a8e81923fbab?cid=75579ceb85c84be6aa6000f9d07c0540'"
   ]
  },
  {
   "cell_type": "code",
   "execution_count": 5,
   "id": "ab4d281d",
   "metadata": {},
   "outputs": [],
   "source": [
    "driver.get(test_track1)"
   ]
  },
  {
   "cell_type": "code",
   "execution_count": 6,
   "id": "d3c4a917",
   "metadata": {},
   "outputs": [
    {
     "name": "stderr",
     "output_type": "stream",
     "text": [
      "/var/folders/c2/zngcssg14mv23nw0yr96s0wm0000gn/T/ipykernel_26807/4249825307.py:3: DeprecationWarning: find_element_by_* commands are deprecated. Please use find_element() instead\n",
      "  driver.find_element_by_id(\"collapseButton1\").click()\n"
     ]
    },
    {
     "ename": "NoSuchElementException",
     "evalue": "Message: no such element: Unable to locate element: {\"method\":\"css selector\",\"selector\":\"[id=\"collapseButton1\"]\"}\n  (Session info: chrome=99.0.4844.83)\nStacktrace:\n0   chromedriver                        0x00000001046c7159 chromedriver + 5120345\n1   chromedriver                        0x0000000104654b13 chromedriver + 4651795\n2   chromedriver                        0x0000000104244e68 chromedriver + 392808\n3   chromedriver                        0x000000010427a181 chromedriver + 610689\n4   chromedriver                        0x000000010427a341 chromedriver + 611137\n5   chromedriver                        0x00000001042aca74 chromedriver + 817780\n6   chromedriver                        0x0000000104297b6d chromedriver + 732013\n7   chromedriver                        0x00000001042aa637 chromedriver + 808503\n8   chromedriver                        0x0000000104297a33 chromedriver + 731699\n9   chromedriver                        0x000000010426d5dd chromedriver + 558557\n10  chromedriver                        0x000000010426e4f5 chromedriver + 562421\n11  chromedriver                        0x000000010468438d chromedriver + 4846477\n12  chromedriver                        0x000000010469e21c chromedriver + 4952604\n13  chromedriver                        0x00000001046a3a12 chromedriver + 4975122\n14  chromedriver                        0x000000010469eb4a chromedriver + 4954954\n15  chromedriver                        0x00000001046795b0 chromedriver + 4801968\n16  chromedriver                        0x00000001046b8f78 chromedriver + 5062520\n17  chromedriver                        0x00000001046b90ff chromedriver + 5062911\n18  chromedriver                        0x00000001046ce545 chromedriver + 5150021\n19  libsystem_pthread.dylib             0x00007ff812a59514 _pthread_start + 125\n20  libsystem_pthread.dylib             0x00007ff812a5502f thread_start + 15\n",
     "output_type": "error",
     "traceback": [
      "\u001b[0;31m---------------------------------------------------------------------------\u001b[0m",
      "\u001b[0;31mNoSuchElementException\u001b[0m                    Traceback (most recent call last)",
      "\u001b[0;32m/var/folders/c2/zngcssg14mv23nw0yr96s0wm0000gn/T/ipykernel_26807/4249825307.py\u001b[0m in \u001b[0;36m<module>\u001b[0;34m\u001b[0m\n\u001b[1;32m      1\u001b[0m \u001b[0;31m# select show footnotes,\u001b[0m\u001b[0;34m\u001b[0m\u001b[0;34m\u001b[0m\u001b[0m\n\u001b[1;32m      2\u001b[0m \u001b[0;31m# note worse case scenario this one click can be done manually, then proceed below\u001b[0m\u001b[0;34m\u001b[0m\u001b[0;34m\u001b[0m\u001b[0m\n\u001b[0;32m----> 3\u001b[0;31m \u001b[0mdriver\u001b[0m\u001b[0;34m.\u001b[0m\u001b[0mfind_element_by_id\u001b[0m\u001b[0;34m(\u001b[0m\u001b[0;34m\"collapseButton1\"\u001b[0m\u001b[0;34m)\u001b[0m\u001b[0;34m.\u001b[0m\u001b[0mclick\u001b[0m\u001b[0;34m(\u001b[0m\u001b[0;34m)\u001b[0m\u001b[0;34m\u001b[0m\u001b[0;34m\u001b[0m\u001b[0m\n\u001b[0m",
      "\u001b[0;32m~/.pyenv/versions/3.10.0/lib/python3.10/site-packages/selenium/webdriver/remote/webdriver.py\u001b[0m in \u001b[0;36mfind_element_by_id\u001b[0;34m(self, id_)\u001b[0m\n\u001b[1;32m    470\u001b[0m             \u001b[0mstacklevel\u001b[0m\u001b[0;34m=\u001b[0m\u001b[0;36m2\u001b[0m\u001b[0;34m,\u001b[0m\u001b[0;34m\u001b[0m\u001b[0;34m\u001b[0m\u001b[0m\n\u001b[1;32m    471\u001b[0m         )\n\u001b[0;32m--> 472\u001b[0;31m         \u001b[0;32mreturn\u001b[0m \u001b[0mself\u001b[0m\u001b[0;34m.\u001b[0m\u001b[0mfind_element\u001b[0m\u001b[0;34m(\u001b[0m\u001b[0mby\u001b[0m\u001b[0;34m=\u001b[0m\u001b[0mBy\u001b[0m\u001b[0;34m.\u001b[0m\u001b[0mID\u001b[0m\u001b[0;34m,\u001b[0m \u001b[0mvalue\u001b[0m\u001b[0;34m=\u001b[0m\u001b[0mid_\u001b[0m\u001b[0;34m)\u001b[0m\u001b[0;34m\u001b[0m\u001b[0;34m\u001b[0m\u001b[0m\n\u001b[0m\u001b[1;32m    473\u001b[0m \u001b[0;34m\u001b[0m\u001b[0m\n\u001b[1;32m    474\u001b[0m     \u001b[0;32mdef\u001b[0m \u001b[0mfind_elements_by_id\u001b[0m\u001b[0;34m(\u001b[0m\u001b[0mself\u001b[0m\u001b[0;34m,\u001b[0m \u001b[0mid_\u001b[0m\u001b[0;34m)\u001b[0m \u001b[0;34m->\u001b[0m \u001b[0mWebElement\u001b[0m\u001b[0;34m:\u001b[0m\u001b[0;34m\u001b[0m\u001b[0;34m\u001b[0m\u001b[0m\n",
      "\u001b[0;32m~/.pyenv/versions/3.10.0/lib/python3.10/site-packages/selenium/webdriver/remote/webdriver.py\u001b[0m in \u001b[0;36mfind_element\u001b[0;34m(self, by, value)\u001b[0m\n\u001b[1;32m   1242\u001b[0m             \u001b[0mvalue\u001b[0m \u001b[0;34m=\u001b[0m \u001b[0;34m'[name=\"%s\"]'\u001b[0m \u001b[0;34m%\u001b[0m \u001b[0mvalue\u001b[0m\u001b[0;34m\u001b[0m\u001b[0;34m\u001b[0m\u001b[0m\n\u001b[1;32m   1243\u001b[0m \u001b[0;34m\u001b[0m\u001b[0m\n\u001b[0;32m-> 1244\u001b[0;31m         return self.execute(Command.FIND_ELEMENT, {\n\u001b[0m\u001b[1;32m   1245\u001b[0m             \u001b[0;34m'using'\u001b[0m\u001b[0;34m:\u001b[0m \u001b[0mby\u001b[0m\u001b[0;34m,\u001b[0m\u001b[0;34m\u001b[0m\u001b[0;34m\u001b[0m\u001b[0m\n\u001b[1;32m   1246\u001b[0m             'value': value})['value']\n",
      "\u001b[0;32m~/.pyenv/versions/3.10.0/lib/python3.10/site-packages/selenium/webdriver/remote/webdriver.py\u001b[0m in \u001b[0;36mexecute\u001b[0;34m(self, driver_command, params)\u001b[0m\n\u001b[1;32m    422\u001b[0m         \u001b[0mresponse\u001b[0m \u001b[0;34m=\u001b[0m \u001b[0mself\u001b[0m\u001b[0;34m.\u001b[0m\u001b[0mcommand_executor\u001b[0m\u001b[0;34m.\u001b[0m\u001b[0mexecute\u001b[0m\u001b[0;34m(\u001b[0m\u001b[0mdriver_command\u001b[0m\u001b[0;34m,\u001b[0m \u001b[0mparams\u001b[0m\u001b[0;34m)\u001b[0m\u001b[0;34m\u001b[0m\u001b[0;34m\u001b[0m\u001b[0m\n\u001b[1;32m    423\u001b[0m         \u001b[0;32mif\u001b[0m \u001b[0mresponse\u001b[0m\u001b[0;34m:\u001b[0m\u001b[0;34m\u001b[0m\u001b[0;34m\u001b[0m\u001b[0m\n\u001b[0;32m--> 424\u001b[0;31m             \u001b[0mself\u001b[0m\u001b[0;34m.\u001b[0m\u001b[0merror_handler\u001b[0m\u001b[0;34m.\u001b[0m\u001b[0mcheck_response\u001b[0m\u001b[0;34m(\u001b[0m\u001b[0mresponse\u001b[0m\u001b[0;34m)\u001b[0m\u001b[0;34m\u001b[0m\u001b[0;34m\u001b[0m\u001b[0m\n\u001b[0m\u001b[1;32m    425\u001b[0m             response['value'] = self._unwrap_value(\n\u001b[1;32m    426\u001b[0m                 response.get('value', None))\n",
      "\u001b[0;32m~/.pyenv/versions/3.10.0/lib/python3.10/site-packages/selenium/webdriver/remote/errorhandler.py\u001b[0m in \u001b[0;36mcheck_response\u001b[0;34m(self, response)\u001b[0m\n\u001b[1;32m    245\u001b[0m                 \u001b[0malert_text\u001b[0m \u001b[0;34m=\u001b[0m \u001b[0mvalue\u001b[0m\u001b[0;34m[\u001b[0m\u001b[0;34m'alert'\u001b[0m\u001b[0;34m]\u001b[0m\u001b[0;34m.\u001b[0m\u001b[0mget\u001b[0m\u001b[0;34m(\u001b[0m\u001b[0;34m'text'\u001b[0m\u001b[0;34m)\u001b[0m\u001b[0;34m\u001b[0m\u001b[0;34m\u001b[0m\u001b[0m\n\u001b[1;32m    246\u001b[0m             \u001b[0;32mraise\u001b[0m \u001b[0mexception_class\u001b[0m\u001b[0;34m(\u001b[0m\u001b[0mmessage\u001b[0m\u001b[0;34m,\u001b[0m \u001b[0mscreen\u001b[0m\u001b[0;34m,\u001b[0m \u001b[0mstacktrace\u001b[0m\u001b[0;34m,\u001b[0m \u001b[0malert_text\u001b[0m\u001b[0;34m)\u001b[0m  \u001b[0;31m# type: ignore[call-arg]  # mypy is not smart enough here\u001b[0m\u001b[0;34m\u001b[0m\u001b[0;34m\u001b[0m\u001b[0m\n\u001b[0;32m--> 247\u001b[0;31m         \u001b[0;32mraise\u001b[0m \u001b[0mexception_class\u001b[0m\u001b[0;34m(\u001b[0m\u001b[0mmessage\u001b[0m\u001b[0;34m,\u001b[0m \u001b[0mscreen\u001b[0m\u001b[0;34m,\u001b[0m \u001b[0mstacktrace\u001b[0m\u001b[0;34m)\u001b[0m\u001b[0;34m\u001b[0m\u001b[0;34m\u001b[0m\u001b[0m\n\u001b[0m\u001b[1;32m    248\u001b[0m \u001b[0;34m\u001b[0m\u001b[0m\n\u001b[1;32m    249\u001b[0m     \u001b[0;32mdef\u001b[0m \u001b[0m_value_or_default\u001b[0m\u001b[0;34m(\u001b[0m\u001b[0mself\u001b[0m\u001b[0;34m,\u001b[0m \u001b[0mobj\u001b[0m\u001b[0;34m:\u001b[0m \u001b[0mMapping\u001b[0m\u001b[0;34m[\u001b[0m\u001b[0m_KT\u001b[0m\u001b[0;34m,\u001b[0m \u001b[0m_VT\u001b[0m\u001b[0;34m]\u001b[0m\u001b[0;34m,\u001b[0m \u001b[0mkey\u001b[0m\u001b[0;34m:\u001b[0m \u001b[0m_KT\u001b[0m\u001b[0;34m,\u001b[0m \u001b[0mdefault\u001b[0m\u001b[0;34m:\u001b[0m \u001b[0m_VT\u001b[0m\u001b[0;34m)\u001b[0m \u001b[0;34m->\u001b[0m \u001b[0m_VT\u001b[0m\u001b[0;34m:\u001b[0m\u001b[0;34m\u001b[0m\u001b[0;34m\u001b[0m\u001b[0m\n",
      "\u001b[0;31mNoSuchElementException\u001b[0m: Message: no such element: Unable to locate element: {\"method\":\"css selector\",\"selector\":\"[id=\"collapseButton1\"]\"}\n  (Session info: chrome=99.0.4844.83)\nStacktrace:\n0   chromedriver                        0x00000001046c7159 chromedriver + 5120345\n1   chromedriver                        0x0000000104654b13 chromedriver + 4651795\n2   chromedriver                        0x0000000104244e68 chromedriver + 392808\n3   chromedriver                        0x000000010427a181 chromedriver + 610689\n4   chromedriver                        0x000000010427a341 chromedriver + 611137\n5   chromedriver                        0x00000001042aca74 chromedriver + 817780\n6   chromedriver                        0x0000000104297b6d chromedriver + 732013\n7   chromedriver                        0x00000001042aa637 chromedriver + 808503\n8   chromedriver                        0x0000000104297a33 chromedriver + 731699\n9   chromedriver                        0x000000010426d5dd chromedriver + 558557\n10  chromedriver                        0x000000010426e4f5 chromedriver + 562421\n11  chromedriver                        0x000000010468438d chromedriver + 4846477\n12  chromedriver                        0x000000010469e21c chromedriver + 4952604\n13  chromedriver                        0x00000001046a3a12 chromedriver + 4975122\n14  chromedriver                        0x000000010469eb4a chromedriver + 4954954\n15  chromedriver                        0x00000001046795b0 chromedriver + 4801968\n16  chromedriver                        0x00000001046b8f78 chromedriver + 5062520\n17  chromedriver                        0x00000001046b90ff chromedriver + 5062911\n18  chromedriver                        0x00000001046ce545 chromedriver + 5150021\n19  libsystem_pthread.dylib             0x00007ff812a59514 _pthread_start + 125\n20  libsystem_pthread.dylib             0x00007ff812a5502f thread_start + 15\n"
     ]
    }
   ],
   "source": [
    "# select show footnotes, \n",
    "# note worse case scenario this one click can be done manually, then proceed below\n",
    "driver.find_element_by_id(\"collapseButton1\").click()"
   ]
  },
  {
   "cell_type": "code",
   "execution_count": null,
   "id": "4b9db430",
   "metadata": {},
   "outputs": [],
   "source": [
    "url = test_track1"
   ]
  },
  {
   "cell_type": "code",
   "execution_count": null,
   "id": "6754ec18",
   "metadata": {},
   "outputs": [],
   "source": [
    "import wget"
   ]
  },
  {
   "cell_type": "code",
   "execution_count": null,
   "id": "61a639bb",
   "metadata": {},
   "outputs": [],
   "source": [
    "# file = wget.download(url)"
   ]
  },
  {
   "cell_type": "code",
   "execution_count": null,
   "id": "510e138e",
   "metadata": {},
   "outputs": [],
   "source": [
    "import requests\n",
    "import urllib.request\n",
    "import re\n",
    "from bs4 import BeautifulSoup\n",
    "\n",
    "r = requests.get(url)\n",
    "soup = BeautifulSoup(r.content, 'html.parser')\n",
    "\n",
    "for a in soup.find_all('a', href=re.compile(r'http.*\\.mp3')):\n",
    "    filename = a['href'][a['href'].rfind(\"/\")+1:]\n",
    "    doc = requests.get(a['href'])\n",
    "    with open(filename, 'wb') as f:\n",
    "        f.write(doc.content)"
   ]
  },
  {
   "cell_type": "code",
   "execution_count": null,
   "id": "4cb85b46",
   "metadata": {},
   "outputs": [],
   "source": [
    "# import requests\n",
    "# import urllib.request\n",
    "# import re\n",
    "# from bs4 import BeautifulSoup\n",
    "\n",
    "# r = requests.get(test_track1)\n",
    "# soup = BeautifulSoup(r.content, 'html.parser')\n",
    "\n",
    "# for a in soup.find_all('a', href=re.compile('http.*\\.mp3')):\n",
    "#     print(a['href'])"
   ]
  },
  {
   "cell_type": "markdown",
   "id": "850a516f",
   "metadata": {},
   "source": [
    "##### Reading in List of Preview URLs"
   ]
  },
  {
   "cell_type": "code",
   "execution_count": null,
   "id": "0f144151",
   "metadata": {},
   "outputs": [],
   "source": [
    "df = pd.read_csv('../data/source/spotify/preview-urls.csv', encoding=\"utf-8\")\n",
    "df.head(5)"
   ]
  },
  {
   "cell_type": "code",
   "execution_count": null,
   "id": "83d06475",
   "metadata": {},
   "outputs": [],
   "source": [
    "preview_urls = df['0'].to_list()\n",
    "# preview_urls"
   ]
  },
  {
   "cell_type": "code",
   "execution_count": null,
   "id": "d1678b81",
   "metadata": {},
   "outputs": [],
   "source": [
    "# preview_urls"
   ]
  },
  {
   "cell_type": "code",
   "execution_count": null,
   "id": "d3d4f6a2",
   "metadata": {},
   "outputs": [],
   "source": [
    "url = \"https://p.scdn.co/mp3-preview/\""
   ]
  },
  {
   "cell_type": "code",
   "execution_count": null,
   "id": "be4fe867",
   "metadata": {},
   "outputs": [],
   "source": [
    "for page in preview_urls:\n",
    "    if page.startswith(url):\n",
    "        driver = webdriver.Chrome()\n",
    "        driver.get(page)  \n",
    "        sleep(randint(1,2))\n",
    "        response = driver.find_element(By.CLASS_NAME, \"mw-parser-output\")\n",
    "        raw_html_hr_candidates = response.get_attribute('outerHTML')\n",
    "        soup_doc = BeautifulSoup(raw_html_hr_candidates, \"html.parser\")"
   ]
  },
  {
   "cell_type": "code",
   "execution_count": null,
   "id": "b589141a",
   "metadata": {},
   "outputs": [],
   "source": [
    " for page in preview_urls:\n",
    "    if page.startswith(multi_reps):\n",
    "        driver = webdriver.Chrome()\n",
    "        driver.get(page)  \n",
    "        sleep(randint(5,15))\n",
    "        response = driver.find_element(By.CLASS_NAME, \"mw-parser-output\")\n",
    "        raw_html_hr_candidates = response.get_attribute('outerHTML')\n",
    "        soup_doc = BeautifulSoup(raw_html_hr_candidates, \"html.parser\")\n",
    "        cells = soup_doc.find_all('li')\n",
    "        for cell in cells:\n",
    "            if cell.a is not None:\n",
    "                ls_hr_links.append(cell.a['href'])\n",
    "                print(cell.a['href'])\n",
    "            else:\n",
    "                ls_test3.append(cell.string)\n",
    "    #line 27\n",
    "    else:\n",
    "#     if page.startswith(single_rep):\n",
    "        driver = webdriver.Chrome()\n",
    "        driver.get(page)  \n",
    "        sleep(randint(2,5))\n",
    "        response2 = driver.find_element(By.CLASS_NAME, \"mw-parser-output\")\n",
    "    #     sleep(randint(2,5))\n",
    "        raw_html_hr_candidates = response2.get_attribute('outerHTML')\n",
    "        soup_doc = BeautifulSoup(raw_html_hr_candidates, \"html.parser\")\n",
    "        votebox = soup_doc.find_all(class_=\"votebox\")\n",
    "        votebox_results = votebox[0].find_all(class_=\"votebox-results-cell--text\")\n",
    "        for cell in votebox_results:\n",
    "            if cell.a is not None:\n",
    "                ls_hr_candidate_pages.append(cell.a['href'])\n",
    "                print(cell.a['href'])\n",
    "            else:\n",
    "                ls_test5.append(cell.string)"
   ]
  },
  {
   "cell_type": "code",
   "execution_count": null,
   "id": "b1576e0c",
   "metadata": {},
   "outputs": [],
   "source": []
  }
 ],
 "metadata": {
  "kernelspec": {
   "display_name": "Python 3 (ipykernel)",
   "language": "python",
   "name": "python3"
  },
  "language_info": {
   "codemirror_mode": {
    "name": "ipython",
    "version": 3
   },
   "file_extension": ".py",
   "mimetype": "text/x-python",
   "name": "python",
   "nbconvert_exporter": "python",
   "pygments_lexer": "ipython3",
   "version": "3.10.0"
  }
 },
 "nbformat": 4,
 "nbformat_minor": 5
}
