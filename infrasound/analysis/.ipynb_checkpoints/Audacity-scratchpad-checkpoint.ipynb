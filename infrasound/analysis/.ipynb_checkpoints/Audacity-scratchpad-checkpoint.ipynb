{
 "cells": [
  {
   "cell_type": "markdown",
   "id": "1bce3f36",
   "metadata": {},
   "source": [
    "# Audacity Scripts?"
   ]
  },
  {
   "cell_type": "code",
   "execution_count": null,
   "id": "39477137",
   "metadata": {},
   "outputs": [],
   "source": []
  },
  {
   "cell_type": "markdown",
   "id": "ee1b0779",
   "metadata": {},
   "source": [
    "https://forum.audacityteam.org/viewtopic.php?t=116809\n",
    "\n",
    "https://manual.audacityteam.org/man/audio_track_dropdown_menu.html\n",
    "\n",
    "file:///Applications/Audacity.app/Contents/help/manual/man/low_pass_filter.html"
   ]
  },
  {
   "cell_type": "markdown",
   "id": "6d5b4d2f",
   "metadata": {},
   "source": [
    "\"A high-pass or low-pass filter (Effect -> Classic Filters) can remove the bass frequencies (high-pass) or remove everything but the bass (low-pass). You can't isolate bass guitar from any other low frequency instruments.\"\n",
    "\n",
    "\"That depends on what you're trying to accomplish. You just have to experiment... Maybe start with 100Hz. There is no \"definition\" of where bass starts. The standard home theater subwoofer-crossover is 80Hz. A bass guitar has a pretty-wide range and it goes higher into the mid-range frequencies.\""
   ]
  },
  {
   "cell_type": "markdown",
   "id": "fa9f096f",
   "metadata": {},
   "source": [
    "##### Testing that the pipe is working from Audacity"
   ]
  },
  {
   "cell_type": "markdown",
   "id": "c446586d",
   "metadata": {},
   "source": [
    "Source: https://github.com/audacity/audacity/blob/master/scripts/piped-work/pipe_test.py"
   ]
  },
  {
   "cell_type": "code",
   "execution_count": 4,
   "id": "b66d9def",
   "metadata": {},
   "outputs": [],
   "source": [
    "import os\n",
    "import sys"
   ]
  },
  {
   "cell_type": "code",
   "execution_count": 5,
   "id": "4ff0dcdf",
   "metadata": {},
   "outputs": [
    {
     "name": "stdout",
     "output_type": "stream",
     "text": [
      "pipe-test.py, running on linux or mac\n",
      "Write to  \"/tmp/audacity_script_pipe.to.501\"\n",
      "Read from \"/tmp/audacity_script_pipe.from.501\"\n",
      "-- Both pipes exist.  Good.\n",
      "-- File to write to has been opened\n",
      "-- File to read from has now been opened too\r\n",
      "\n",
      "Send: >>> \n",
      "Help: Command=Help\n",
      "Rcvd: <<< \n",
      "\n",
      "{ \"id\":\"Help\", \"name\":\"Help\", \"params\":\n",
      "    [ \n",
      "      { \"key\":\"Command\", \"type\":\"string\", \"default\":\"Help\" },\n",
      "      { \"key\":\"Format\", \"type\":\"enum\", \"default\":\"JSON\", \"enum\":\n",
      "          [ \"JSON\", \"LISP\", \"Brief\" ] } ], \n",
      "  \"url\":\"Extra_Menu:_Scriptables_II#help\", \n",
      "  \"tip\":\"Gives help on a command.\" }\n",
      "BatchCommand finished: OK\n",
      "\n",
      "Send: >>> \n",
      "Help: Command=\"GetInfo\"\n",
      "Rcvd: <<< \n",
      "\n",
      "{ \"id\":\"GetInfo\", \"name\":\"Get Info\", \"params\":\n",
      "    [ \n",
      "      { \"key\":\"Type\", \"type\":\"enum\", \"default\":\"Commands\", \"enum\":\n",
      "          [ \"Commands\", \"Menus\", \"Preferences\", \"Tracks\", \"Clips\", \"Envelopes\", \"Labels\", \"Boxes\" ] },\n",
      "      { \"key\":\"Format\", \"type\":\"enum\", \"default\":\"JSON\", \"enum\":\n",
      "          [ \"JSON\", \"LISP\", \"Brief\" ] } ], \n",
      "  \"url\":\"Extra_Menu:_Scriptables_II#get_info\", \n",
      "  \"tip\":\"Gets information in JSON format.\" }\n",
      "BatchCommand finished: OK\n",
      "\n"
     ]
    }
   ],
   "source": [
    "if sys.platform == 'win32':\n",
    "    print(\"pipe-test.py, running on windows\")\n",
    "    TONAME = '\\\\\\\\.\\\\pipe\\\\ToSrvPipe'\n",
    "    FROMNAME = '\\\\\\\\.\\\\pipe\\\\FromSrvPipe'\n",
    "    EOL = '\\r\\n\\0'\n",
    "else:\n",
    "    print(\"pipe-test.py, running on linux or mac\")\n",
    "    TONAME = '/tmp/audacity_script_pipe.to.' + str(os.getuid())\n",
    "    FROMNAME = '/tmp/audacity_script_pipe.from.' + str(os.getuid())\n",
    "    EOL = '\\n'\n",
    "\n",
    "print(\"Write to  \\\"\" + TONAME +\"\\\"\")\n",
    "if not os.path.exists(TONAME):\n",
    "    print(\" ..does not exist.  Ensure Audacity is running with mod-script-pipe.\")\n",
    "    sys.exit()\n",
    "\n",
    "print(\"Read from \\\"\" + FROMNAME +\"\\\"\")\n",
    "if not os.path.exists(FROMNAME):\n",
    "    print(\" ..does not exist.  Ensure Audacity is running with mod-script-pipe.\")\n",
    "    sys.exit()\n",
    "\n",
    "print(\"-- Both pipes exist.  Good.\")\n",
    "\n",
    "TOFILE = open(TONAME, 'w')\n",
    "print(\"-- File to write to has been opened\")\n",
    "FROMFILE = open(FROMNAME, 'rt')\n",
    "print(\"-- File to read from has now been opened too\\r\\n\")\n",
    "\n",
    "\n",
    "def send_command(command):\n",
    "    \"\"\"Send a single command.\"\"\"\n",
    "    print(\"Send: >>> \\n\"+command)\n",
    "    TOFILE.write(command + EOL)\n",
    "    TOFILE.flush()\n",
    "\n",
    "def get_response():\n",
    "    \"\"\"Return the command response.\"\"\"\n",
    "    result = ''\n",
    "    line = ''\n",
    "    while True:\n",
    "        result += line\n",
    "        line = FROMFILE.readline()\n",
    "        if line == '\\n' and len(result) > 0:\n",
    "            break\n",
    "    return result\n",
    "\n",
    "def do_command(command):\n",
    "    \"\"\"Send one command, and return the response.\"\"\"\n",
    "    send_command(command)\n",
    "    response = get_response()\n",
    "    print(\"Rcvd: <<< \\n\" + response)\n",
    "    return response\n",
    "\n",
    "def quick_test():\n",
    "    \"\"\"Example list of commands.\"\"\"\n",
    "    do_command('Help: Command=Help')\n",
    "    do_command('Help: Command=\"GetInfo\"')\n",
    "    #do_command('SetPreference: Name=GUI/Theme Value=classic Reload=1')\n",
    "\n",
    "quick_test()"
   ]
  },
  {
   "cell_type": "markdown",
   "id": "fc5a8ab1",
   "metadata": {},
   "source": [
    "##### Using Scripting"
   ]
  },
  {
   "cell_type": "markdown",
   "id": "360e4f92",
   "metadata": {},
   "source": [
    "The string \"SetLabel: Text='Foo'\" sent from Python would set the first label in a project to the word 'Foo'.\n",
    "\n",
    "Using \"pipe_test.py\", the command could be sent with:"
   ]
  },
  {
   "cell_type": "markdown",
   "id": "3cd0f265",
   "metadata": {},
   "source": [
    "https://github.com/audacity/audacity/blob/master/scripts/piped-work/pipeclient.py\n",
    "\n",
    "you could try adding other commands to the end of the pipe_test.py script. Each command name ends with a colon, and may be followed by parameters. For example:\n",
    "do_command(\"Help:\")\n",
    "\n",
    "PipeClient.write : Write a command to _write_pipe.<br>\n",
    "PipeClient.read : Read Audacity's reply from pipe."
   ]
  },
  {
   "cell_type": "markdown",
   "id": "74c7135b",
   "metadata": {},
   "source": [
    "Example\n",
    "-------\n",
    "    # Import the module:\n",
    "    >>> import pipeclient\n",
    "    # Create a client instance:\n",
    "    >>> client = pipeclient.PipeClient()\n",
    "    # Send a command:\n",
    "    >>> client.write(\"Command\", timer=True)\n",
    "    # Read the last reply:\n",
    "    >>> print(client.read())"
   ]
  },
  {
   "cell_type": "markdown",
   "id": "8789ea42",
   "metadata": {},
   "source": [
    "Scripting Reference: https://manual.audacityteam.org/man/scripting_reference.html\n",
    "\n",
    "print spectogram https://manual.audacityteam.org/man/file_menu.html#print <br>\n",
    "export as wav https://manual.audacityteam.org/man/file_menu_export.html#export_as_wav <br>\n",
    "Spectral https://manual.audacityteam.org/man/select_menu_spectral.html#next_lower_peak_frequency <br>\n",
    "Spectral Edit Multitool https://manual.audacityteam.org/man/effect_menu_nyquist.html#spectral_edit_multi_tool <br>\n"
   ]
  },
  {
   "cell_type": "markdown",
   "id": "6fc77b76",
   "metadata": {},
   "source": [
    "Audacity Cheat sheet https://wvde.state.wv.us/vschool/documents/AudacityCheatSheet.pdf"
   ]
  },
  {
   "cell_type": "code",
   "execution_count": null,
   "id": "4e6496d2",
   "metadata": {},
   "outputs": [],
   "source": []
  },
  {
   "cell_type": "code",
   "execution_count": null,
   "id": "17dce4f4",
   "metadata": {},
   "outputs": [],
   "source": []
  },
  {
   "cell_type": "code",
   "execution_count": null,
   "id": "6bbcdca0",
   "metadata": {},
   "outputs": [],
   "source": []
  }
 ],
 "metadata": {
  "kernelspec": {
   "display_name": "Python 3 (ipykernel)",
   "language": "python",
   "name": "python3"
  },
  "language_info": {
   "codemirror_mode": {
    "name": "ipython",
    "version": 3
   },
   "file_extension": ".py",
   "mimetype": "text/x-python",
   "name": "python",
   "nbconvert_exporter": "python",
   "pygments_lexer": "ipython3",
   "version": "3.10.0"
  }
 },
 "nbformat": 4,
 "nbformat_minor": 5
}
