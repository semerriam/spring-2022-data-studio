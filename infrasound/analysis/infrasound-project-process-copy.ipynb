{
 "cells": [
  {
   "cell_type": "markdown",
   "id": "b49a103c",
   "metadata": {},
   "source": [
    "# Infrasound Project Process"
   ]
  },
  {
   "cell_type": "markdown",
   "id": "223b0ae3",
   "metadata": {},
   "source": [
    "Exploring the sounds of horror movies below human hearing"
   ]
  },
  {
   "cell_type": "markdown",
   "id": "ddce637c",
   "metadata": {},
   "source": [
    "----"
   ]
  },
  {
   "cell_type": "markdown",
   "id": "936b529a",
   "metadata": {},
   "source": [
    "##### Imports"
   ]
  },
  {
   "cell_type": "code",
   "execution_count": 1,
   "id": "7137b2fa",
   "metadata": {},
   "outputs": [
    {
     "name": "stderr",
     "output_type": "stream",
     "text": [
      "/Users/sm/.pyenv/versions/3.10.0/lib/python3.10/site-packages/pandas/compat/__init__.py:124: UserWarning: Could not import the lzma module. Your installed Python is incomplete. Attempting to use lzma compression will result in a RuntimeError.\n",
      "  warnings.warn(msg)\n"
     ]
    }
   ],
   "source": [
    "import pandas as pd\n",
    "import numpy as np\n",
    "import matplotlib.pyplot as plt\n",
    "import time"
   ]
  },
  {
   "cell_type": "code",
   "execution_count": 2,
   "id": "b6adee3d",
   "metadata": {},
   "outputs": [],
   "source": [
    "# import pyaudio\n",
    "import os\n",
    "import struct\n",
    "from tkinter import TclError\n",
    "import ffmpeg\n",
    "import ffprobe\n",
    "from ffprobe import FFProbe"
   ]
  },
  {
   "cell_type": "code",
   "execution_count": 3,
   "id": "0ea21bb7",
   "metadata": {},
   "outputs": [
    {
     "name": "stderr",
     "output_type": "stream",
     "text": [
      "/Users/sm/.pyenv/versions/3.10.0/lib/python3.10/site-packages/pydub/utils.py:170: RuntimeWarning: Couldn't find ffmpeg or avconv - defaulting to ffmpeg, but may not work\n",
      "  warn(\"Couldn't find ffmpeg or avconv - defaulting to ffmpeg, but may not work\", RuntimeWarning)\n",
      "WARNING:root:Could not import librosa: No module named 'librosa'. Some functionality may be disabled.\n"
     ]
    }
   ],
   "source": [
    "from html.parser import HTMLParser\n",
    "from bs4 import BeautifulSoup\n",
    "from bs4 import BeautifulSoup as bs\n",
    "import requests\n",
    "import re\n",
    "import random\n",
    "import os.path\n",
    "import audiosegment"
   ]
  },
  {
   "cell_type": "code",
   "execution_count": 4,
   "id": "b006e0c2",
   "metadata": {},
   "outputs": [],
   "source": [
    "from scipy.io import wavfile # scipy library to read wav files\n",
    "import numpy as np\n",
    "from spectrum import Spectrogram, readwav\n",
    "import scipy.io.wavfile as wave\n",
    "# import sox\n",
    "import wavio"
   ]
  },
  {
   "cell_type": "code",
   "execution_count": 5,
   "id": "d2297c0e",
   "metadata": {},
   "outputs": [],
   "source": [
    "from plotly import subplots\n",
    "import plotly.graph_objects as go"
   ]
  },
  {
   "cell_type": "code",
   "execution_count": 6,
   "id": "47c2f7fd",
   "metadata": {},
   "outputs": [],
   "source": [
    "from thinkdsp import decorate\n",
    "PI2 = 2 * np.pi\n",
    "from thinkdsp import read_wave\n",
    "from thinkdsp import play_wave"
   ]
  },
  {
   "cell_type": "code",
   "execution_count": 7,
   "id": "1b6517d0",
   "metadata": {},
   "outputs": [],
   "source": [
    "# suppress scientific notation for small numbers\n",
    "np.set_printoptions(precision=3, suppress=True)"
   ]
  },
  {
   "cell_type": "markdown",
   "id": "6f71303c",
   "metadata": {},
   "source": [
    "----"
   ]
  },
  {
   "cell_type": "markdown",
   "id": "022c4e3d",
   "metadata": {},
   "source": [
    "### Importing Soundtrack Files"
   ]
  },
  {
   "cell_type": "markdown",
   "id": "9b315ac9",
   "metadata": {},
   "source": [
    "##### Downloading mp3 from YouTube"
   ]
  },
  {
   "cell_type": "code",
   "execution_count": 8,
   "id": "8e9842dc",
   "metadata": {},
   "outputs": [
    {
     "name": "stdout",
     "output_type": "stream",
     "text": [
      "Enter the URL of the video you want to download: \n",
      ">> https://www.youtube.com/watch?v=MVnSFj6XQZY\n",
      "Enter the destination (leave blank for current directory)\n",
      ">> \n",
      "Hereditary Soundtrack - \"Reborn\" - Colin Stetson has been successfully downloaded.\n"
     ]
    }
   ],
   "source": [
    "# importing packages\n",
    "from pytube import YouTube\n",
    "import os\n",
    "  \n",
    "# url input from user\n",
    "yt = YouTube(\n",
    "    str(input(\"Enter the URL of the video you want to download: \\n>> \")))\n",
    "  \n",
    "# extract only audio\n",
    "video = yt.streams.filter(only_audio=True).first()\n",
    "  \n",
    "# check for destination to save file\n",
    "print(\"Enter the destination (leave blank for current directory)\")\n",
    "destination = str(input(\">> \")) or '.'\n",
    "  \n",
    "# download the file\n",
    "out_file = video.download(output_path=destination)\n",
    "  \n",
    "# save the file\n",
    "base, ext = os.path.splitext(out_file)\n",
    "new_file = base + '.mp3'\n",
    "os.rename(out_file, new_file)\n",
    "  \n",
    "# result of success\n",
    "print(yt.title + \" has been successfully downloaded.\")"
   ]
  },
  {
   "cell_type": "markdown",
   "id": "24942c4d",
   "metadata": {},
   "source": [
    "----"
   ]
  },
  {
   "cell_type": "markdown",
   "id": "d72680f0",
   "metadata": {},
   "source": [
    "### Exploring Soundtracks using ThinkDSP"
   ]
  },
  {
   "cell_type": "markdown",
   "id": "b3dacb64",
   "metadata": {},
   "source": [
    "References: https://colab.research.google.com/github/AllenDowney/ThinkDSP/blob/master/code/chap05.ipynb#scrollTo=xudYa9DJkwHt\n",
    "https://colab.research.google.com/github/AllenDowney/ThinkDSP/blob/master/code/chap01.ipynb#scrollTo=32iH1zVZqdSW"
   ]
  },
  {
   "cell_type": "markdown",
   "id": "00d39b87",
   "metadata": {},
   "source": [
    "##### Reading in Wav files once Converted from mp3"
   ]
  },
  {
   "cell_type": "code",
   "execution_count": 9,
   "id": "ffd65880",
   "metadata": {},
   "outputs": [],
   "source": [
    "wave = read_wave('../data/source/soundtracks/wav-files-3/2-_22---Reborn-copy.wav')\n",
    "wave.normalize()\n",
    "# wave.make_audio()"
   ]
  },
  {
   "cell_type": "code",
   "execution_count": 63,
   "id": "90942f0f",
   "metadata": {},
   "outputs": [],
   "source": [
    "# wave.plot()"
   ]
  },
  {
   "cell_type": "markdown",
   "id": "c6f5a443",
   "metadata": {},
   "source": [
    "The spectrum tells us what frequencies are present in a given sound clip"
   ]
  },
  {
   "cell_type": "code",
   "execution_count": 65,
   "id": "73e41d36",
   "metadata": {},
   "outputs": [],
   "source": [
    "spectrum = wave.make_spectrum()\n",
    "# spectrum.plot()\n",
    "# decorate(xlabel='Frequency (Hz)', ylabel='Amplitude')"
   ]
  },
  {
   "cell_type": "markdown",
   "id": "d652231a",
   "metadata": {},
   "source": [
    "The spectrogram gives a better picture of how the components vary over time:"
   ]
  },
  {
   "cell_type": "code",
   "execution_count": 59,
   "id": "05eae694",
   "metadata": {},
   "outputs": [],
   "source": [
    "spectro = wave.make_spectrogram(seg_length=1024)\n",
    "# spectro.plot(high=4200)\n",
    "# decorate(xlabel='Time (s)', \n",
    "#                  ylabel='Frequency (Hz)')\n",
    "# plt.savefig('imgs/output/1-_01-Iraq-full-2.pdf', dpi=300)"
   ]
  },
  {
   "cell_type": "code",
   "execution_count": 54,
   "id": "af4ae011",
   "metadata": {},
   "outputs": [],
   "source": [
    "spectrum = wave.make_spectrum()\n",
    "# spectrum.plot(high=1000)\n",
    "# decorate(xlabel='Frequency (Hz)', ylabel='Amplitude')"
   ]
  },
  {
   "cell_type": "code",
   "execution_count": 14,
   "id": "8483471d",
   "metadata": {},
   "outputs": [],
   "source": [
    "# spectrum = wave.make_spectrum()\n",
    "# spectrum.plot(high=1000)\n",
    "# decorate(xlabel='Frequency (Hz)', ylabel='Amplitude', xlim=(0,20))"
   ]
  },
  {
   "cell_type": "markdown",
   "id": "1449fb57",
   "metadata": {},
   "source": [
    "##### Exploring the Fundamental Frequency by changing the duration of sound clip"
   ]
  },
  {
   "cell_type": "markdown",
   "id": "e03321a6",
   "metadata": {},
   "source": [
    "To track the fundamental frequency, we can take a short window (changing the duration of the clip):"
   ]
  },
  {
   "cell_type": "code",
   "execution_count": 55,
   "id": "876d73ef",
   "metadata": {},
   "outputs": [],
   "source": [
    "# start = 0\n",
    "# duration = 0.6 #length of clip being plotted\n",
    "# segment = wave.segment(start, duration)\n",
    "# segment.plot()\n",
    "# decorate(xlabel='Time (s)')"
   ]
  },
  {
   "cell_type": "code",
   "execution_count": 56,
   "id": "16c7eb01",
   "metadata": {},
   "outputs": [],
   "source": [
    "# wave.segment(duration=0.005).plot()\n",
    "# decorate(xlabel='Time (s)')"
   ]
  },
  {
   "cell_type": "code",
   "execution_count": 17,
   "id": "fe4cd385",
   "metadata": {},
   "outputs": [],
   "source": [
    "# start = 0\n",
    "# duration = 5 #length of clip being plotted\n",
    "# segment = wave.segment(start, duration)\n",
    "# segment.plot()\n",
    "# decorate(xlabel='Time (s)')"
   ]
  },
  {
   "cell_type": "code",
   "execution_count": 18,
   "id": "d10f9be5",
   "metadata": {},
   "outputs": [],
   "source": [
    "# start = 0\n",
    "# duration = 10 #length of clip being plotted\n",
    "# segment = wave.segment(start, duration)\n",
    "# segment.plot()\n",
    "# decorate(xlabel='Time (s)')"
   ]
  },
  {
   "cell_type": "code",
   "execution_count": 64,
   "id": "c6349ffb",
   "metadata": {},
   "outputs": [],
   "source": [
    "start = 0\n",
    "duration = 2000 #length of clip being plotted\n",
    "segment = wave.segment(start, duration)\n",
    "# segment.plot()\n",
    "# decorate(xlabel='Time (s)')"
   ]
  },
  {
   "cell_type": "markdown",
   "id": "0d960658",
   "metadata": {},
   "source": [
    "##### Smoothing of Lines"
   ]
  },
  {
   "cell_type": "code",
   "execution_count": 20,
   "id": "60294129",
   "metadata": {},
   "outputs": [],
   "source": [
    "# window = np.ones(1001)"
   ]
  },
  {
   "cell_type": "code",
   "execution_count": 21,
   "id": "eee3e2a3",
   "metadata": {},
   "outputs": [],
   "source": [
    "# segment.plot(color='gray')\n",
    "# ys = np.convolve(segment.ys, window, mode='valid')\n",
    "# smooth2 = Wave(ys, framerate=wave.framerate)\n",
    "# smooth2.plot()\n",
    "# decorate(xlabel='Time(s)')"
   ]
  },
  {
   "cell_type": "markdown",
   "id": "334a99bd",
   "metadata": {},
   "source": [
    "##### Spectrum of the Wave"
   ]
  },
  {
   "cell_type": "markdown",
   "id": "d7086c53",
   "metadata": {},
   "source": [
    "Spectrum computes the spectrum of the wave."
   ]
  },
  {
   "cell_type": "code",
   "execution_count": 22,
   "id": "9f68adf4",
   "metadata": {},
   "outputs": [],
   "source": [
    "spectrum = segment.make_spectrum()"
   ]
  },
  {
   "cell_type": "code",
   "execution_count": 23,
   "id": "b50ccbde",
   "metadata": {},
   "outputs": [
    {
     "data": {
      "image/png": "[encoded data removed]",
      "text/plain": [
       "<Figure size 432x288 with 1 Axes>"
      ]
     },
     "metadata": {
      "needs_background": "light"
     },
     "output_type": "display_data"
    }
   ],
   "source": [
    "spectrum.plot()\n",
    "decorate(xlabel='Frequency (Hz)')"
   ]
  },
  {
   "cell_type": "markdown",
   "id": "ed74fc9d",
   "metadata": {},
   "source": [
    "The highest points in the spectrum and their frequencies, in descending order:"
   ]
  },
  {
   "cell_type": "code",
   "execution_count": 66,
   "id": "b7ea0e96",
   "metadata": {},
   "outputs": [],
   "source": [
    "# spectrum.peaks()[:10]"
   ]
  },
  {
   "cell_type": "markdown",
   "id": "b2b20995",
   "metadata": {},
   "source": [
    "##### Filter sounds with a low pass filter / creating upper bounds"
   ]
  },
  {
   "cell_type": "markdown",
   "id": "bb378b39",
   "metadata": {},
   "source": [
    "The frequency components above 10 kHz (10,000Hz) are small.  We can see the lower frequencies more clearly by providing an upper bound:"
   ]
  },
  {
   "cell_type": "code",
   "execution_count": 25,
   "id": "a3c25155",
   "metadata": {},
   "outputs": [
    {
     "data": {
      "image/png": "[encoded data removed]",
      "text/plain": [
       "<Figure size 432x288 with 1 Axes>"
      ]
     },
     "metadata": {
      "needs_background": "light"
     },
     "output_type": "display_data"
    }
   ],
   "source": [
    "spectrum.plot(high=10000)\n",
    "decorate(xlabel='Frequency (Hz)')"
   ]
  },
  {
   "cell_type": "markdown",
   "id": "a76ce72e",
   "metadata": {},
   "source": [
    "Human hearing is about 20 Hz to 20 kHz. In order to only see what waves are below human hearing, we can provide an upper bound of 20Hz."
   ]
  },
  {
   "cell_type": "code",
   "execution_count": 26,
   "id": "7f9c67b7",
   "metadata": {},
   "outputs": [
    {
     "data": {
      "image/png": "[encoded data removed]",
      "text/plain": [
       "<Figure size 432x288 with 1 Axes>"
      ]
     },
     "metadata": {
      "needs_background": "light"
     },
     "output_type": "display_data"
    }
   ],
   "source": [
    "spectrum.plot(high=20)\n",
    "decorate(xlabel='Frequency (Hz)')"
   ]
  },
  {
   "cell_type": "markdown",
   "id": "631da74b",
   "metadata": {},
   "source": [
    "Spectrum provides low_pass, which applies a low pass filter; that is, it attenuates all frequency components above a cutoff frequency."
   ]
  },
  {
   "cell_type": "code",
   "execution_count": 27,
   "id": "b66ed973",
   "metadata": {},
   "outputs": [],
   "source": [
    "spectrum.low_pass(20)"
   ]
  },
  {
   "cell_type": "markdown",
   "id": "f1e32d56",
   "metadata": {},
   "source": [
    "The result is a spectrum with fewer components."
   ]
  },
  {
   "cell_type": "code",
   "execution_count": 28,
   "id": "1f8745bb",
   "metadata": {},
   "outputs": [
    {
     "data": {
      "image/png": "[encoded data removed]",
      "text/plain": [
       "<Figure size 432x288 with 1 Axes>"
      ]
     },
     "metadata": {
      "needs_background": "light"
     },
     "output_type": "display_data"
    }
   ],
   "source": [
    "spectrum.plot(high=20)\n",
    "decorate(xlabel='Frequency (Hz)')"
   ]
  },
  {
   "cell_type": "code",
   "execution_count": 29,
   "id": "b675e7a2",
   "metadata": {},
   "outputs": [
    {
     "data": {
      "text/plain": [
       "[(1246.4852088888506, 19.816616766467067),\n",
       " (1233.924382102492, 18.080665591893137),\n",
       " (1187.6702929501519, 19.760479041916167),\n",
       " (1153.601079615648, 19.764797328420084),\n",
       " (1136.0020097973988, 19.82093505297098),\n",
       " (1114.6944729857369, 19.954801934592354),\n",
       " (1094.0346146822558, 19.108417779824965),\n",
       " (1085.8518473623215, 18.093620451404885),\n",
       " (1085.7569307572185, 19.79502533394749),\n",
       " (1063.0908156942978, 19.272512666973746)]"
      ]
     },
     "execution_count": 29,
     "metadata": {},
     "output_type": "execute_result"
    }
   ],
   "source": [
    "spectrum.peaks()[:10]"
   ]
  },
  {
   "cell_type": "markdown",
   "id": "f529efbf",
   "metadata": {},
   "source": [
    "We can convert the filtered spectrum back to a wave:"
   ]
  },
  {
   "cell_type": "code",
   "execution_count": 30,
   "id": "7c0b3ff3",
   "metadata": {},
   "outputs": [],
   "source": [
    "filtered = spectrum.make_wave()"
   ]
  },
  {
   "cell_type": "markdown",
   "id": "8fd6b3c6",
   "metadata": {},
   "source": [
    "And then normalize it to the range -1 to 1."
   ]
  },
  {
   "cell_type": "code",
   "execution_count": 31,
   "id": "75364077",
   "metadata": {},
   "outputs": [],
   "source": [
    "filtered.normalize()"
   ]
  },
  {
   "cell_type": "code",
   "execution_count": 32,
   "id": "a03983ca",
   "metadata": {},
   "outputs": [
    {
     "data": {
      "image/png": "[encoded data removed]",
      "text/plain": [
       "<Figure size 432x288 with 1 Axes>"
      ]
     },
     "metadata": {
      "needs_background": "light"
     },
     "output_type": "display_data"
    }
   ],
   "source": [
    "filtered.plot()\n",
    "decorate(xlabel='Frequency (Hz)')"
   ]
  },
  {
   "cell_type": "markdown",
   "id": "ca185ce0",
   "metadata": {},
   "source": [
    "Before playing it back, I'll apodize it (to avoid clicks)."
   ]
  },
  {
   "cell_type": "code",
   "execution_count": 57,
   "id": "3fd68f00",
   "metadata": {},
   "outputs": [],
   "source": [
    "filtered.apodize()\n",
    "# filtered.plot()\n",
    "# decorate(xlabel='Time (s)')"
   ]
  },
  {
   "cell_type": "markdown",
   "id": "ef2a1a91",
   "metadata": {},
   "source": [
    "And I'll do the same with the original segment."
   ]
  },
  {
   "cell_type": "code",
   "execution_count": 58,
   "id": "64e091ba",
   "metadata": {},
   "outputs": [],
   "source": [
    "segment.normalize()\n",
    "segment.apodize()\n",
    "# segment.plot()\n",
    "# decorate(xlabel='Time (s)')"
   ]
  },
  {
   "cell_type": "markdown",
   "id": "cac9a9a4",
   "metadata": {},
   "source": [
    "##### Testing the two versions (the original and the filtered)"
   ]
  },
  {
   "cell_type": "markdown",
   "id": "c667dc44",
   "metadata": {},
   "source": [
    "Finally, we can listen to the original segment and the filtered version."
   ]
  },
  {
   "cell_type": "code",
   "execution_count": 61,
   "id": "2c09c8b7",
   "metadata": {},
   "outputs": [],
   "source": [
    "# segment.make_audio()"
   ]
  },
  {
   "cell_type": "code",
   "execution_count": 62,
   "id": "52d48b53",
   "metadata": {},
   "outputs": [],
   "source": [
    "# filtered.make_audio()"
   ]
  },
  {
   "cell_type": "markdown",
   "id": "eb2fbf28",
   "metadata": {},
   "source": [
    "##### Interacting with duration and filter"
   ]
  },
  {
   "cell_type": "code",
   "execution_count": 37,
   "id": "deb13a97",
   "metadata": {},
   "outputs": [],
   "source": [
    "import matplotlib.pyplot as plt\n",
    "from IPython.display import display\n",
    "\n",
    "def filter_wave(wave, start, duration, cutoff):\n",
    "    \"\"\"Selects a segment from the wave and filters it.\n",
    "    \n",
    "    Plots the spectrum and displays an Audio widget.\n",
    "    \n",
    "    wave: Wave object\n",
    "    start: time in s\n",
    "    duration: time in s\n",
    "    cutoff: frequency in Hz\n",
    "    \"\"\"\n",
    "    segment = wave.segment(start, duration)\n",
    "    spectrum = segment.make_spectrum()\n",
    "\n",
    "    spectrum.plot(color='0.7')\n",
    "    spectrum.low_pass(cutoff)\n",
    "    spectrum.plot(color='#045a8d')\n",
    "    decorate(xlabel='Frequency (Hz)')\n",
    "    plt.show()\n",
    "    \n",
    "    audio = spectrum.make_wave().make_audio()\n",
    "    display(audio)"
   ]
  },
  {
   "cell_type": "code",
   "execution_count": 53,
   "id": "b2184953",
   "metadata": {},
   "outputs": [],
   "source": [
    "# from ipywidgets import interact, fixed\n",
    "\n",
    "# interact(filter_wave, wave=fixed(wave), \n",
    "#          start=(0, 5, 0.1), duration=(0, 5, 0.1), cutoff=(0, 10000, 100));"
   ]
  },
  {
   "cell_type": "code",
   "execution_count": 60,
   "id": "f73feb1c",
   "metadata": {},
   "outputs": [],
   "source": [
    "# from ipywidgets import interact, fixed\n",
    "\n",
    "# interact(filter_wave, wave=fixed(wave), \n",
    "#          start=(0, 5, 0.1), duration=(0, 5, 0.1), cutoff=(0, 20, 100));"
   ]
  },
  {
   "cell_type": "markdown",
   "id": "bea2278f",
   "metadata": {},
   "source": [
    "----"
   ]
  },
  {
   "cell_type": "markdown",
   "id": "60950598",
   "metadata": {},
   "source": [
    "### Plotting"
   ]
  },
  {
   "cell_type": "code",
   "execution_count": 40,
   "id": "3385290e",
   "metadata": {},
   "outputs": [
    {
     "data": {
      "image/png": "[encoded data removed]",
      "text/plain": [
       "<Figure size 432x288 with 1 Axes>"
      ]
     },
     "metadata": {
      "needs_background": "light"
     },
     "output_type": "display_data"
    }
   ],
   "source": [
    "spectrum.plot(high=20)\n",
    "decorate(xlabel='Frequency (Hz)')\n",
    "# plt.savefig('imgs/output/1-_01-Iraq-1.pdf', dpi=300)"
   ]
  },
  {
   "cell_type": "code",
   "execution_count": 41,
   "id": "6a785baf",
   "metadata": {},
   "outputs": [],
   "source": [
    "# spectro = filtered.make_spectrogram(seg_length=1024)\n",
    "# spectro.plot(high=4200)\n",
    "# decorate(xlabel='Time (s)', ylabel='Frequency (Hz)')\n",
    "# # plt.savefig('imgs/output/1-_01-Iraq-2.pdf', dpi=300)"
   ]
  },
  {
   "cell_type": "code",
   "execution_count": 42,
   "id": "b0275dc6",
   "metadata": {},
   "outputs": [
    {
     "data": {
      "image/png": "[encoded data removed]",
      "text/plain": [
       "<Figure size 432x288 with 1 Axes>"
      ]
     },
     "metadata": {
      "needs_background": "light"
     },
     "output_type": "display_data"
    }
   ],
   "source": [
    "filtered.plot()\n",
    "decorate(xlabel='Time (s)')\n",
    "# plt.figure(figsize=(30,10))\n",
    "# plt.ylim(0, 2)\n",
    "# plt.savefig('imgs/output/1-_01-Iraq-3.pdf', dpi=300)"
   ]
  },
  {
   "cell_type": "code",
   "execution_count": 43,
   "id": "591f22ac",
   "metadata": {},
   "outputs": [],
   "source": [
    "# filtered.plot()\n",
    "# decorate(xlabel='Time (s)')"
   ]
  },
  {
   "cell_type": "code",
   "execution_count": 44,
   "id": "4a7ff7be",
   "metadata": {},
   "outputs": [],
   "source": [
    "# spectrum.plot(high=20)\n",
    "# decorate(xlabel='Frequency (Hz)')\n",
    "# plt.savefig('imgs/output/edelweiss.pdf', dpi=300)"
   ]
  },
  {
   "cell_type": "code",
   "execution_count": 45,
   "id": "5c979f65",
   "metadata": {},
   "outputs": [],
   "source": [
    "# filtered"
   ]
  },
  {
   "cell_type": "code",
   "execution_count": 46,
   "id": "7fce193e",
   "metadata": {},
   "outputs": [],
   "source": [
    "# fig = filtered.plot()"
   ]
  },
  {
   "cell_type": "markdown",
   "id": "6e35c5c6",
   "metadata": {},
   "source": [
    "##### Spectrogram Color Schemes"
   ]
  },
  {
   "cell_type": "code",
   "execution_count": 47,
   "id": "04be8f53",
   "metadata": {},
   "outputs": [],
   "source": [
    "# # AudioName = test3\n",
    "# AudioName = '../data/source/soundtracks/wav-files-3/10-_20---29-Neibolt-Street.wav'"
   ]
  },
  {
   "cell_type": "code",
   "execution_count": 48,
   "id": "a30c51e8",
   "metadata": {},
   "outputs": [],
   "source": [
    "# from spectrum import Spectrogram, readwav\n",
    "# data, samplerate = readwav(AudioName)\n",
    "\n",
    "# p = Spectrogram(data, ws=128, W=4096, sampling=samplerate)\n",
    "# p.periodogram()\n",
    "# # fig = plt.figure(figsize=(30,10), dpi = 300)\n",
    "# # axis([-0.5, 0.5, -60, 0]), \n",
    "# p.plot()\n",
    "# # plt.savefig('imgs/output/10-_20---29-Neibolt-Street-spectro1.pdf')  "
   ]
  },
  {
   "cell_type": "code",
   "execution_count": 49,
   "id": "11a8c3db",
   "metadata": {},
   "outputs": [],
   "source": [
    "# from spectrum import Spectrogram, readwav\n",
    "# data, samplerate = readwav(AudioName)\n",
    "\n",
    "# p = Spectrogram(data, ws=128, W=4096, sampling=samplerate)\n",
    "# p.periodogram()\n",
    "# fig = plt.figure(figsize=(30,10), dpi = 300)\n",
    "# # axis([-0.5, 0.5, -60, 0]), \n",
    "# p.plot(cmap='magma')\n",
    "# plt.savefig('imgs/output/10-_20---29-Neibolt-Street-spectro2.pdf')  "
   ]
  },
  {
   "cell_type": "code",
   "execution_count": 50,
   "id": "876e2a4f",
   "metadata": {},
   "outputs": [],
   "source": [
    "# from spectrum import Spectrogram, readwav\n",
    "# data, samplerate = readwav(AudioName)\n",
    "\n",
    "# p = Spectrogram(data, ws=128, W=4096, sampling=samplerate)\n",
    "# p.periodogram()\n",
    "# # fig = plt.figure(figsize=(30,10), dpi = 300)\n",
    "# # axis([-0.5, 0.5, -60, 0]), \n",
    "# fig = plt.figure(figsize=(30,10), dpi = 300)\n",
    "# p.plot(cmap='bone')\n",
    "# plt.savefig('imgs/output/10-_20---29-Neibolt-Street-spectro3.pdf')  "
   ]
  },
  {
   "cell_type": "markdown",
   "id": "774f3c31",
   "metadata": {},
   "source": [
    "##### Filtered recordings"
   ]
  },
  {
   "cell_type": "code",
   "execution_count": 51,
   "id": "faae0d03",
   "metadata": {},
   "outputs": [],
   "source": [
    "# AudioName = filtered"
   ]
  },
  {
   "cell_type": "code",
   "execution_count": 52,
   "id": "f34c279d",
   "metadata": {},
   "outputs": [],
   "source": [
    "# from spectrum import Spectrogram, readwav\n",
    "# data, samplerate = readwav(AudioName)\n",
    "\n",
    "# p = Spectrogram(data, ws=128, W=4096, sampling=samplerate)\n",
    "# p.periodogram()\n",
    "# fig = plt.figure(figsize=(30,10), dpi = 300)\n",
    "# # axis([-0.5, 0.5, -60, 0]), \n",
    "# p.plot()"
   ]
  }
 ],
 "metadata": {
  "kernelspec": {
   "display_name": "Python 3 (ipykernel)",
   "language": "python",
   "name": "python3"
  },
  "language_info": {
   "codemirror_mode": {
    "name": "ipython",
    "version": 3
   },
   "file_extension": ".py",
   "mimetype": "text/x-python",
   "name": "python",
   "nbconvert_exporter": "python",
   "pygments_lexer": "ipython3",
   "version": "3.10.0"
  }
 },
 "nbformat": 4,
 "nbformat_minor": 5
}
