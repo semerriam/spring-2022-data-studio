{
 "cells": [
  {
   "cell_type": "code",
   "execution_count": 1,
   "id": "2634414a-eca8-4b63-bc0f-a8f89c2880b4",
   "metadata": {},
   "outputs": [],
   "source": [
    "import numpy as np\n",
    "import pandas as pd\n",
    "import xml.etree.ElementTree as ET"
   ]
  },
  {
   "cell_type": "code",
   "execution_count": 2,
   "id": "50bce5cf-59a1-492f-9bf1-a51d4dd910ae",
   "metadata": {},
   "outputs": [],
   "source": [
    "pd.set_option('display.max_columns', None)\n",
    "pd.set_option('display.max_rows', None)\n",
    "pd.set_option('display.width', None)\n",
    "pd.set_option('display.max_colwidth', None)\n",
    "pd.set_option('max_seq_item', None)"
   ]
  },
  {
   "cell_type": "code",
   "execution_count": 3,
   "id": "22ff9454-07fb-4b41-a96a-ddcb287dbc6c",
   "metadata": {
    "scrolled": true,
    "tags": []
   },
   "outputs": [],
   "source": [
    "root = ET.parse('../../data/raw/20220301-susan-merriam/IA_FIRM_SEC_Feed_02_28_2022.xml').getroot()"
   ]
  },
  {
   "cell_type": "code",
   "execution_count": 32,
   "id": "e64622cd-3a06-4c6f-afe9-cb7bc9ad0109",
   "metadata": {
    "scrolled": true,
    "tags": []
   },
   "outputs": [],
   "source": [
    "# Initialize df column lists\n",
    "dict_items = {}\n",
    "for firm in root[0]:\n",
    "    for item in firm:  # Info, MainAddr, etc.\n",
    "        if item.tag == 'FormInfo':\n",
    "            for subitem in item:  # Part1A\n",
    "                for item_n in subitem:  # Item 1, Item 2A, etc.\n",
    "                    if item_n.tag not in dict_items.keys():\n",
    "                        dict_items[item_n.tag] = {}\n",
    "                    for q in item_n.attrib.keys():\n",
    "                        if q not in dict_items[item_n.tag].keys():\n",
    "                            dict_items[item_n.tag][q] = []\n",
    "\n",
    "# ACTUALLY populate df column lists\n",
    "ls_busnms = []\n",
    "for firm in root[0][:10]:  # REMEMBER TO REMOVE INDEX UP TO 10 WHEN READY FOR FULL FILE\n",
    "    for item in firm:  # Info, MainAddr, etc.\n",
    "        if item.tag == 'Info':\n",
    "            ls_busnms.append(item.attrib['BusNm'])\n",
    "        elif item.tag == 'FormInfo':\n",
    "            for subitem in item:  # Part1A\n",
    "                for item_n in subitem:  # Item 1, Item 2A, etc.\n",
    "                    for q, qval in dict_items[item_n.tag].items():\n",
    "                        if q in item_n.attrib.keys():\n",
    "                            dict_items[item_n.tag][q].append(item_n.attrib[q])\n",
    "                        else:\n",
    "                            dict_items[item_n.tag][q].append(np.nan)"
   ]
  },
  {
   "cell_type": "code",
   "execution_count": 69,
   "id": "f192bd14-4d46-4a4b-8aea-821c28c74101",
   "metadata": {
    "scrolled": true,
    "tags": []
   },
   "outputs": [],
   "source": [
    "# Unpack the horrible dictionary of dictionaries into a nice list of lists (ha)\n",
    "\n",
    "ls_col_names = []\n",
    "ls_cols_lists = []\n",
    "for item, qdict in dict_items.items():\n",
    "    for q, ls_q in qdict.items():\n",
    "        ls_col_names.append(q)\n",
    "        ls_cols_lists.append(ls_q)\n",
    "        \n",
    "ls_final = [ls_busnms] + ls_cols_lists"
   ]
  },
  {
   "cell_type": "code",
   "execution_count": 71,
   "id": "622e9518-c438-48b8-9b47-36017164268c",
   "metadata": {},
   "outputs": [],
   "source": [
    "# Convert list of lists into an inverted dataframe\n",
    "df_init = pd.DataFrame(ls_final)\n",
    "\n",
    "# Make the dataframe nice\n",
    "df_final = df_init.T\n",
    "df_final.columns = ['business_name'] + ls_col_names"
   ]
  }
 ],
 "metadata": {
  "kernelspec": {
   "display_name": "Python 3 (ipykernel)",
   "language": "python",
   "name": "python3"
  },
  "language_info": {
   "codemirror_mode": {
    "name": "ipython",
    "version": 3
   },
   "file_extension": ".py",
   "mimetype": "text/x-python",
   "name": "python",
   "nbconvert_exporter": "python",
   "pygments_lexer": "ipython3",
   "version": "3.10.0"
  }
 },
 "nbformat": 4,
 "nbformat_minor": 5
}
