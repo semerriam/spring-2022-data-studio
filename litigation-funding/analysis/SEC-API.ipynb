{
 "cells": [
  {
   "cell_type": "markdown",
   "id": "101ddcd0",
   "metadata": {},
   "source": [
    "# SEC Filings"
   ]
  },
  {
   "cell_type": "markdown",
   "id": "1aec654e",
   "metadata": {},
   "source": [
    "SEC Filings"
   ]
  },
  {
   "cell_type": "markdown",
   "id": "48acd047",
   "metadata": {},
   "source": [
    "##### Imports"
   ]
  },
  {
   "cell_type": "code",
   "execution_count": 1,
   "id": "e291b64b",
   "metadata": {},
   "outputs": [
    {
     "name": "stderr",
     "output_type": "stream",
     "text": [
      "/Users/sm/.pyenv/versions/3.10.0/lib/python3.10/site-packages/pandas/compat/__init__.py:124: UserWarning: Could not import the lzma module. Your installed Python is incomplete. Attempting to use lzma compression will result in a RuntimeError.\n",
      "  warnings.warn(msg)\n"
     ]
    }
   ],
   "source": [
    "import pandas as pd\n",
    "from plotnine import *\n",
    "\n",
    "# importing statsmodels (for linear regression in python)\n",
    "import statsmodels.formula.api as smf"
   ]
  },
  {
   "cell_type": "code",
   "execution_count": 2,
   "id": "9f7ff25b",
   "metadata": {},
   "outputs": [],
   "source": [
    "from html.parser import HTMLParser\n",
    "import requests\n",
    "from bs4 import BeautifulSoup\n",
    "import re\n",
    "import pandas as pd\n",
    "import matplotlib.pyplot as plt\n",
    "import numpy as np"
   ]
  },
  {
   "cell_type": "code",
   "execution_count": 3,
   "id": "ed3a081e",
   "metadata": {},
   "outputs": [],
   "source": [
    "import numpy as np\n",
    "import pandas as pd\n",
    "import xml.etree.ElementTree as ET"
   ]
  },
  {
   "cell_type": "code",
   "execution_count": 4,
   "id": "c5605838",
   "metadata": {},
   "outputs": [],
   "source": [
    "pd.set_option('display.max_columns', None)\n",
    "pd.set_option('display.max_rows', None)\n",
    "pd.set_option('display.width', None)\n",
    "pd.set_option('display.max_colwidth', None)\n",
    "pd.set_option('max_seq_item', None)"
   ]
  },
  {
   "cell_type": "markdown",
   "id": "677b87f7",
   "metadata": {},
   "source": [
    "----"
   ]
  },
  {
   "cell_type": "markdown",
   "id": "1b45a441",
   "metadata": {},
   "source": [
    "### Read in SEC Dataset"
   ]
  },
  {
   "cell_type": "markdown",
   "id": "65f6f73d",
   "metadata": {},
   "source": [
    "Description"
   ]
  },
  {
   "cell_type": "markdown",
   "id": "63da9fce",
   "metadata": {},
   "source": [
    "Source: https://www.sec.gov/dera/data/financial-statement-and-notes-data-set.html\n",
    "\n",
    "\n",
    "Central Index Key: 0001714174\n",
    "\n",
    "\n",
    "<SEC-DOCUMENT>0001104659-22-022919.txt : 20220214\n",
    "<SEC-HEADER>0001104659-22-022919.hdr.sgml : 20220214\n",
    "<ACCEPTANCE-DATETIME>20220214163026\n",
    "ACCESSION NUMBER:\t\t0001104659-22-022919\n",
    "CONFORMED SUBMISSION TYPE:\t6-K\n",
    "PUBLIC DOCUMENT COUNT:\t\t3\n",
    "CONFORMED PERIOD OF REPORT:\t20220214\n",
    "FILED AS OF DATE:\t\t20220214\n",
    "DATE AS OF CHANGE:\t\t20220214\n",
    "\n",
    "FILER:\n",
    "\n",
    "\tCOMPANY DATA:\t\n",
    "\t\tCOMPANY CONFORMED NAME:\t\t\tBurford Capital Ltd\n",
    "\t\tCENTRAL INDEX KEY:\t\t\t0001714174\n",
    "\t\tSTANDARD INDUSTRIAL CLASSIFICATION:\tFINANCE SERVICES [6199]\n",
    "\t\tIRS NUMBER:\t\t\t\t000000000\n",
    "\t\tSTATE OF INCORPORATION:\t\t\tY7\n",
    "\t\tFISCAL YEAR END:\t\t\t1231\n",
    "\n",
    "\tFILING VALUES:\n",
    "\t\tFORM TYPE:\t\t6-K\n",
    "\t\tSEC ACT:\t\t1934 Act\n",
    "\t\tSEC FILE NUMBER:\t001-39511\n",
    "\t\tFILM NUMBER:\t\t22632901\n",
    "\n",
    "\tBUSINESS ADDRESS:\t\n",
    "\t\tSTREET 1:\t\tOAK HOUSE\n",
    "\t\tSTREET 2:\t\tHIRZEL STREET\n",
    "\t\tCITY:\t\t\tST PETER PORT\n",
    "\t\tSTATE:\t\t\tY7\n",
    "\t\tZIP:\t\t\tGY1 2NP\n",
    "\t\tBUSINESS PHONE:\t\t44 (0)1481 723450\n",
    "\n",
    "\tMAIL ADDRESS:\t\n",
    "\t\tSTREET 1:\t\tOAK HOUSE\n",
    "\t\tSTREET 2:\t\tHIRZEL STREET\n",
    "\t\tCITY:\t\t\tST PETER PORT\n",
    "\t\tSTATE:\t\t\tY7\n",
    "\t\tZIP:\t\t\tGY1 2NP"
   ]
  },
  {
   "cell_type": "code",
   "execution_count": null,
   "id": "2ee0b955",
   "metadata": {},
   "outputs": [],
   "source": []
  },
  {
   "cell_type": "markdown",
   "id": "9dedadf6",
   "metadata": {},
   "source": [
    "SEC Example: Burford Capital Ltd.\n",
    "\n",
    "https://www.sec.gov/edgar/browse/?CIK=1714174&owner=exclude\n"
   ]
  },
  {
   "cell_type": "code",
   "execution_count": null,
   "id": "26534147",
   "metadata": {},
   "outputs": [],
   "source": []
  },
  {
   "cell_type": "code",
   "execution_count": 5,
   "id": "894d3558",
   "metadata": {},
   "outputs": [],
   "source": [
    "#SEC data types"
   ]
  },
  {
   "cell_type": "markdown",
   "id": "63298dfb",
   "metadata": {},
   "source": [
    "TXT dataset \n",
    "\n",
    "The TXT data set contains non-numeric data, one row per data point in the financial statements. The source for the table is the \"as filed\" XBRL filer submissions.\n",
    "\n",
    "* adsh: Accession Number. The 20-character string formed from the 18-digit number assigned by the Commission to each EDGAR submission. *\n",
    "* tag: The unique identifier (name) for a tag in a specific taxonomy release.\n",
    "* version: For a standard tag, an identifier for the taxonomy; otherwise the accession number where the tag was defined.  For example, \"invest/2013\" indicates that the tag is defined in the 2013 INVEST taxonomy.\n",
    "* ddate: The end date for the data value, rounded to the nearest month end.\n",
    "* qtrs: The count of the number of quarters represented by the data value, rounded to the nearest whole number. A point in time value is represented by 0.\n",
    "* durp: The difference between the reported fact duration and the quarter duration (qtrs), expressed as a fraction of 1.  For example, a fact with duration of 120 days rounded to a 91-day quarter has a durp value of 29/91 = +0.3187.\n",
    "* datp: The date proximity in number of days between end date reported and month-end rounded date.\n",
    "* dimh: The 32-byte hexadecimal key for the dimensional information in the DIM data set. *\n",
    "* coreg: If specified, indicates a specific co-registrant, the parent company, or other entity (e.g., guarantor).  NULL indicates the consolidated entity.  Note that this value is a function of the dimension segments.\n",
    "* escaped: Flag indicating whether the value has had tags removed.\n",
    "* footnote: The plain text of any superscripted footnotes on the value, as shown on the page, truncated to 512 characters, or if there is no footnote, then this field will be blank.\n",
    "*context: The value, with all whitespace normalized, that is, all sequences of line feeds, carriage returns, tabs, non-breaking spaces, and spaces having been collapsed to a single space, and no leading or trailing spaces.  Escaped XML that appears in EDGAR \"Text Block\" tags is processed to remove all mark-up (comments, processing instructions, elements, attributes).  The value is truncated to a maximum number of bytes.  The resulting text is not intended for end user display but only for text analysis applications. \n",
    "\n"
   ]
  },
  {
   "cell_type": "code",
   "execution_count": 1,
   "id": "0f860b9b",
   "metadata": {},
   "outputs": [
    {
     "ename": "NameError",
     "evalue": "name 'pd' is not defined",
     "output_type": "error",
     "traceback": [
      "\u001b[0;31m---------------------------------------------------------------------------\u001b[0m",
      "\u001b[0;31mNameError\u001b[0m                                 Traceback (most recent call last)",
      "\u001b[0;32m/var/folders/c2/zngcssg14mv23nw0yr96s0wm0000gn/T/ipykernel_20434/1961781939.py\u001b[0m in \u001b[0;36m<module>\u001b[0;34m\u001b[0m\n\u001b[0;32m----> 1\u001b[0;31m df_test1 = pd.read_csv(\"sec-data//2021_12_notes//txt.tsv\", \n\u001b[0m\u001b[1;32m      2\u001b[0m                  \u001b[0msep\u001b[0m\u001b[0;34m=\u001b[0m\u001b[0;34m'\\t'\u001b[0m\u001b[0;34m,\u001b[0m\u001b[0;34m\u001b[0m\u001b[0;34m\u001b[0m\u001b[0m\n\u001b[1;32m      3\u001b[0m                  \u001b[0mna_values\u001b[0m\u001b[0;34m=\u001b[0m\u001b[0;34m[\u001b[0m\u001b[0;36m0\u001b[0m\u001b[0;34m]\u001b[0m\u001b[0;34m,\u001b[0m\u001b[0;34m\u001b[0m\u001b[0;34m\u001b[0m\u001b[0m\n\u001b[1;32m      4\u001b[0m                  encoding=\"latin-1\")\n\u001b[1;32m      5\u001b[0m \u001b[0mdf_test1\u001b[0m\u001b[0;34m\u001b[0m\u001b[0;34m\u001b[0m\u001b[0m\n",
      "\u001b[0;31mNameError\u001b[0m: name 'pd' is not defined"
     ]
    }
   ],
   "source": [
    "df_test1 = pd.read_csv(\"sec-data//2021_12_notes//txt.tsv\", \n",
    "                 sep='\\t', \n",
    "                 na_values=[0],\n",
    "                 encoding=\"latin-1\")\n",
    "df_test1"
   ]
  },
  {
   "cell_type": "code",
   "execution_count": null,
   "id": "a4e4a7d6",
   "metadata": {},
   "outputs": [],
   "source": [
    "df_test2 = pd.read_csv(\"sec-data//2021_12_notes//num.tsv\", \n",
    "                 sep='\\t', \n",
    "                 na_values=[0],\n",
    "                 encoding=\"latin-1\")\n",
    "df_test2"
   ]
  },
  {
   "cell_type": "code",
   "execution_count": null,
   "id": "551beb6f",
   "metadata": {},
   "outputs": [],
   "source": [
    "df_test3 = pd.read_csv(\"sec-data//2021_12_notes//pre.tsv\", \n",
    "                 sep='\\t', \n",
    "                 na_values=[0],\n",
    "                 encoding=\"latin-1\")\n",
    "df_test3"
   ]
  },
  {
   "cell_type": "code",
   "execution_count": null,
   "id": "02959c81",
   "metadata": {},
   "outputs": [],
   "source": [
    "df_test4 = pd.read_csv(\"sec-data//2021_12_notes//cal.tsv\", \n",
    "                 sep='\\t', \n",
    "                 na_values=[0],\n",
    "                 encoding=\"latin-1\")\n",
    "df_test4"
   ]
  },
  {
   "cell_type": "code",
   "execution_count": null,
   "id": "3668fd57",
   "metadata": {},
   "outputs": [],
   "source": [
    "df_test5 = pd.read_csv(\"sec-data//2021_12_notes//dim.tsv\", \n",
    "                 sep='\\t', \n",
    "                 na_values=[0],\n",
    "                 encoding=\"latin-1\")\n",
    "df_test5"
   ]
  },
  {
   "cell_type": "code",
   "execution_count": null,
   "id": "f3a19409",
   "metadata": {},
   "outputs": [],
   "source": [
    "df_test6 = pd.read_csv(\"sec-data//2021_12_notes//tag.tsv\", \n",
    "                 sep='\\t', \n",
    "                 na_values=[0],\n",
    "                 encoding=\"latin-1\")\n",
    "df_test6"
   ]
  },
  {
   "cell_type": "code",
   "execution_count": null,
   "id": "55c26839",
   "metadata": {},
   "outputs": [],
   "source": []
  },
  {
   "cell_type": "markdown",
   "id": "b4d66641",
   "metadata": {},
   "source": [
    "The submissions data set contains summary information about an entire EDGAR submission. Some fields were sourced directly from EDGAR submission information, while other fields of data were sourced from the Interactive Data exhibits of the submission. Note: EDGAR derived fields represent the most recent EDGAR assignment as of a given filing's submission date and do not necessarily represent the most current assignments."
   ]
  },
  {
   "cell_type": "code",
   "execution_count": null,
   "id": "81bd04cb",
   "metadata": {},
   "outputs": [],
   "source": [
    "df_test7 = pd.read_csv(\"sec-data//2020q1_notes//sub.tsv\", \n",
    "                 sep='\\t', \n",
    "                 na_values=[0],\n",
    "                 encoding=\"latin-1\")\n",
    "df_test7"
   ]
  },
  {
   "cell_type": "code",
   "execution_count": null,
   "id": "323701e7",
   "metadata": {},
   "outputs": [],
   "source": [
    "df_test7[df_test7.name.str.contains(\"OMNI\")]"
   ]
  },
  {
   "cell_type": "code",
   "execution_count": null,
   "id": "85f4ab89",
   "metadata": {},
   "outputs": [],
   "source": [
    "df_test7[df_test7.name.str.contains(\"MERIDIAN\")]\n",
    "# df_de.query(\"P0020001 == 0\")\n",
    "# df_alive[df_alive.spc_common == 'honeylocust']\n",
    "# # residential_df[residential_df.complaint_type.str.contains(\"noise\")] "
   ]
  },
  {
   "cell_type": "code",
   "execution_count": null,
   "id": "e96c708b",
   "metadata": {},
   "outputs": [],
   "source": [
    "len(df_test7)"
   ]
  },
  {
   "cell_type": "code",
   "execution_count": null,
   "id": "12a10630",
   "metadata": {},
   "outputs": [],
   "source": [
    "df_test8 = pd.read_csv(\"sec-data//2021_12_notes//cal.tsv\", \n",
    "                 sep='\\t', \n",
    "                 na_values=[0],\n",
    "                 encoding=\"latin-1\")\n",
    "df_test8"
   ]
  },
  {
   "cell_type": "code",
   "execution_count": null,
   "id": "a8596e54",
   "metadata": {},
   "outputs": [],
   "source": []
  },
  {
   "cell_type": "code",
   "execution_count": null,
   "id": "a6051871",
   "metadata": {},
   "outputs": [],
   "source": []
  },
  {
   "cell_type": "code",
   "execution_count": null,
   "id": "6151d1cd",
   "metadata": {},
   "outputs": [],
   "source": []
  },
  {
   "cell_type": "code",
   "execution_count": null,
   "id": "56a3ab44",
   "metadata": {},
   "outputs": [],
   "source": []
  },
  {
   "cell_type": "code",
   "execution_count": null,
   "id": "242e3537",
   "metadata": {},
   "outputs": [],
   "source": []
  }
 ],
 "metadata": {
  "kernelspec": {
   "display_name": "Python 3 (ipykernel)",
   "language": "python",
   "name": "python3"
  },
  "language_info": {
   "codemirror_mode": {
    "name": "ipython",
    "version": 3
   },
   "file_extension": ".py",
   "mimetype": "text/x-python",
   "name": "python",
   "nbconvert_exporter": "python",
   "pygments_lexer": "ipython3",
   "version": "3.10.0"
  }
 },
 "nbformat": 4,
 "nbformat_minor": 5
}
