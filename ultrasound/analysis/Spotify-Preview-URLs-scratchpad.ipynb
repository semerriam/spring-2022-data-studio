{
 "cells": [
  {
   "cell_type": "markdown",
   "id": "eb0c1120",
   "metadata": {},
   "source": [
    "# Downloading Spotify Preview URLs"
   ]
  },
  {
   "cell_type": "code",
   "execution_count": 16,
   "id": "c2839615",
   "metadata": {},
   "outputs": [],
   "source": [
    "# All of the necessary imports\n",
    "import pandas as pd\n",
    "\n",
    "import time\n",
    "\n",
    "from selenium import webdriver\n",
    "from selenium.webdriver.common.by import By\n",
    "from selenium.webdriver.support.ui import WebDriverWait\n",
    "from selenium.webdriver.support import expected_conditions as EC\n",
    "from selenium.webdriver.support.ui import Select\n",
    "\n",
    "from webdriver_manager.chrome import ChromeDriverManager"
   ]
  },
  {
   "cell_type": "code",
   "execution_count": 17,
   "id": "fc1bf7b9",
   "metadata": {},
   "outputs": [],
   "source": [
    "from html.parser import HTMLParser\n",
    "import requests\n",
    "from bs4 import BeautifulSoup\n",
    "import re\n",
    "import pandas as pd\n",
    "import matplotlib.pyplot as plt\n",
    "import numpy as np\n",
    "from html.parser import HTMLParser\n",
    "import requests\n",
    "from bs4 import BeautifulSoup as bs\n",
    "import re\n",
    "import random\n",
    "import os.path"
   ]
  },
  {
   "cell_type": "code",
   "execution_count": 1,
   "id": "58fcced3",
   "metadata": {},
   "outputs": [],
   "source": [
    "# Launch a new Chrome, install the appropriate ChromeDriver if necessary\n",
    "driver = webdriver.Chrome(ChromeDriverManager().install())"
   ]
  },
  {
   "cell_type": "markdown",
   "id": "5bb15628",
   "metadata": {},
   "source": [
    "##### Test"
   ]
  },
  {
   "cell_type": "code",
   "execution_count": 19,
   "id": "22f96be1",
   "metadata": {},
   "outputs": [],
   "source": [
    "test_track1 = 'https://p.scdn.co/mp3-preview/7533f18e00ab0ccd738da201f5e5a8e81923fbab?cid=75579ceb85c84be6aa6000f9d07c0540'"
   ]
  },
  {
   "cell_type": "code",
   "execution_count": 20,
   "id": "ab4d281d",
   "metadata": {},
   "outputs": [],
   "source": [
    "driver.get(test_track1)"
   ]
  },
  {
   "cell_type": "code",
   "execution_count": null,
   "id": "d3c4a917",
   "metadata": {},
   "outputs": [],
   "source": [
    "# select show footnotes, \n",
    "# note worse case scenario this one click can be done manually, then proceed below\n",
    "driver.find_element_by_id(\"collapseButton1\").click()"
   ]
  },
  {
   "cell_type": "code",
   "execution_count": 26,
   "id": "4b9db430",
   "metadata": {},
   "outputs": [],
   "source": [
    "url = test_track1"
   ]
  },
  {
   "cell_type": "code",
   "execution_count": 27,
   "id": "6754ec18",
   "metadata": {},
   "outputs": [],
   "source": [
    "import wget"
   ]
  },
  {
   "cell_type": "code",
   "execution_count": 29,
   "id": "61a639bb",
   "metadata": {},
   "outputs": [],
   "source": [
    "# file = wget.download(url)"
   ]
  },
  {
   "cell_type": "code",
   "execution_count": 32,
   "id": "510e138e",
   "metadata": {},
   "outputs": [
    {
     "name": "stderr",
     "output_type": "stream",
     "text": [
      "Some characters could not be decoded, and were replaced with REPLACEMENT CHARACTER.\n"
     ]
    }
   ],
   "source": [
    "import requests\n",
    "import urllib.request\n",
    "import re\n",
    "from bs4 import BeautifulSoup\n",
    "\n",
    "r = requests.get(url)\n",
    "soup = BeautifulSoup(r.content, 'html.parser')\n",
    "\n",
    "for a in soup.find_all('a', href=re.compile(r'http.*\\.mp3')):\n",
    "    filename = a['href'][a['href'].rfind(\"/\")+1:]\n",
    "    doc = requests.get(a['href'])\n",
    "    with open(filename, 'wb') as f:\n",
    "        f.write(doc.content)"
   ]
  },
  {
   "cell_type": "code",
   "execution_count": 31,
   "id": "4cb85b46",
   "metadata": {},
   "outputs": [],
   "source": [
    "# import requests\n",
    "# import urllib.request\n",
    "# import re\n",
    "# from bs4 import BeautifulSoup\n",
    "\n",
    "# r = requests.get(test_track1)\n",
    "# soup = BeautifulSoup(r.content, 'html.parser')\n",
    "\n",
    "# for a in soup.find_all('a', href=re.compile('http.*\\.mp3')):\n",
    "#     print(a['href'])"
   ]
  },
  {
   "cell_type": "markdown",
   "id": "850a516f",
   "metadata": {},
   "source": [
    "##### Reading in List of Preview URLs"
   ]
  },
  {
   "cell_type": "code",
   "execution_count": 6,
   "id": "0f144151",
   "metadata": {},
   "outputs": [
    {
     "data": {
      "text/html": [
       "<div>\n",
       "<style scoped>\n",
       "    .dataframe tbody tr th:only-of-type {\n",
       "        vertical-align: middle;\n",
       "    }\n",
       "\n",
       "    .dataframe tbody tr th {\n",
       "        vertical-align: top;\n",
       "    }\n",
       "\n",
       "    .dataframe thead th {\n",
       "        text-align: right;\n",
       "    }\n",
       "</style>\n",
       "<table border=\"1\" class=\"dataframe\">\n",
       "  <thead>\n",
       "    <tr style=\"text-align: right;\">\n",
       "      <th></th>\n",
       "      <th>Unnamed: 0</th>\n",
       "      <th>0</th>\n",
       "    </tr>\n",
       "  </thead>\n",
       "  <tbody>\n",
       "    <tr>\n",
       "      <th>0</th>\n",
       "      <td>0</td>\n",
       "      <td>https://p.scdn.co/mp3-preview/7533f18e00ab0ccd...</td>\n",
       "    </tr>\n",
       "    <tr>\n",
       "      <th>1</th>\n",
       "      <td>1</td>\n",
       "      <td>https://p.scdn.co/mp3-preview/79b1af39bde4e8d8...</td>\n",
       "    </tr>\n",
       "    <tr>\n",
       "      <th>2</th>\n",
       "      <td>2</td>\n",
       "      <td>NaN</td>\n",
       "    </tr>\n",
       "    <tr>\n",
       "      <th>3</th>\n",
       "      <td>3</td>\n",
       "      <td>NaN</td>\n",
       "    </tr>\n",
       "    <tr>\n",
       "      <th>4</th>\n",
       "      <td>4</td>\n",
       "      <td>https://p.scdn.co/mp3-preview/9f8c577f8a0ceff1...</td>\n",
       "    </tr>\n",
       "  </tbody>\n",
       "</table>\n",
       "</div>"
      ],
      "text/plain": [
       "   Unnamed: 0                                                  0\n",
       "0           0  https://p.scdn.co/mp3-preview/7533f18e00ab0ccd...\n",
       "1           1  https://p.scdn.co/mp3-preview/79b1af39bde4e8d8...\n",
       "2           2                                                NaN\n",
       "3           3                                                NaN\n",
       "4           4  https://p.scdn.co/mp3-preview/9f8c577f8a0ceff1..."
      ]
     },
     "execution_count": 6,
     "metadata": {},
     "output_type": "execute_result"
    }
   ],
   "source": [
    "df = pd.read_csv('../data/source/spotify/preview-urls.csv', encoding=\"utf-8\")\n",
    "df.head(5)"
   ]
  },
  {
   "cell_type": "code",
   "execution_count": 10,
   "id": "83d06475",
   "metadata": {},
   "outputs": [],
   "source": [
    "preview_urls = df['0'].to_list()\n",
    "# preview_urls"
   ]
  },
  {
   "cell_type": "code",
   "execution_count": 30,
   "id": "d1678b81",
   "metadata": {},
   "outputs": [],
   "source": [
    "# preview_urls"
   ]
  },
  {
   "cell_type": "code",
   "execution_count": 13,
   "id": "d3d4f6a2",
   "metadata": {},
   "outputs": [],
   "source": [
    "url = \"https://p.scdn.co/mp3-preview/\""
   ]
  },
  {
   "cell_type": "code",
   "execution_count": null,
   "id": "be4fe867",
   "metadata": {},
   "outputs": [],
   "source": [
    "for page in preview_urls:\n",
    "    if page.startswith(url):\n",
    "        driver = webdriver.Chrome()\n",
    "        driver.get(page)  \n",
    "        sleep(randint(1,2))\n",
    "        response = driver.find_element(By.CLASS_NAME, \"mw-parser-output\")\n",
    "        raw_html_hr_candidates = response.get_attribute('outerHTML')\n",
    "        soup_doc = BeautifulSoup(raw_html_hr_candidates, \"html.parser\")"
   ]
  },
  {
   "cell_type": "code",
   "execution_count": null,
   "id": "b589141a",
   "metadata": {},
   "outputs": [],
   "source": [
    " for page in preview_urls:\n",
    "    if page.startswith(multi_reps):\n",
    "        driver = webdriver.Chrome()\n",
    "        driver.get(page)  \n",
    "        sleep(randint(5,15))\n",
    "        response = driver.find_element(By.CLASS_NAME, \"mw-parser-output\")\n",
    "        raw_html_hr_candidates = response.get_attribute('outerHTML')\n",
    "        soup_doc = BeautifulSoup(raw_html_hr_candidates, \"html.parser\")\n",
    "        cells = soup_doc.find_all('li')\n",
    "        for cell in cells:\n",
    "            if cell.a is not None:\n",
    "                ls_hr_links.append(cell.a['href'])\n",
    "                print(cell.a['href'])\n",
    "            else:\n",
    "                ls_test3.append(cell.string)\n",
    "    #line 27\n",
    "    else:\n",
    "#     if page.startswith(single_rep):\n",
    "        driver = webdriver.Chrome()\n",
    "        driver.get(page)  \n",
    "        sleep(randint(2,5))\n",
    "        response2 = driver.find_element(By.CLASS_NAME, \"mw-parser-output\")\n",
    "    #     sleep(randint(2,5))\n",
    "        raw_html_hr_candidates = response2.get_attribute('outerHTML')\n",
    "        soup_doc = BeautifulSoup(raw_html_hr_candidates, \"html.parser\")\n",
    "        votebox = soup_doc.find_all(class_=\"votebox\")\n",
    "        votebox_results = votebox[0].find_all(class_=\"votebox-results-cell--text\")\n",
    "        for cell in votebox_results:\n",
    "            if cell.a is not None:\n",
    "                ls_hr_candidate_pages.append(cell.a['href'])\n",
    "                print(cell.a['href'])\n",
    "            else:\n",
    "                ls_test5.append(cell.string)"
   ]
  },
  {
   "cell_type": "code",
   "execution_count": null,
   "id": "b1576e0c",
   "metadata": {},
   "outputs": [],
   "source": []
  }
 ],
 "metadata": {
  "kernelspec": {
   "display_name": "Python 3 (ipykernel)",
   "language": "python",
   "name": "python3"
  },
  "language_info": {
   "codemirror_mode": {
    "name": "ipython",
    "version": 3
   },
   "file_extension": ".py",
   "mimetype": "text/x-python",
   "name": "python",
   "nbconvert_exporter": "python",
   "pygments_lexer": "ipython3",
   "version": "3.10.0"
  }
 },
 "nbformat": 4,
 "nbformat_minor": 5
}
