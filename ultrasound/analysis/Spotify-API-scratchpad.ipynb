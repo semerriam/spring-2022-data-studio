{
 "cells": [
  {
   "cell_type": "markdown",
   "id": "8918f9b8",
   "metadata": {},
   "source": [
    "# Spotify API scratchpad"
   ]
  },
  {
   "cell_type": "markdown",
   "id": "70aed994",
   "metadata": {},
   "source": [
    "https://developer.spotify.com/documentation/web-api/"
   ]
  },
  {
   "cell_type": "markdown",
   "id": "8130364e",
   "metadata": {},
   "source": [
    "Reference: https://github.com/luizftoledo/luizftoledo.github.io/blob/main/iron-maiden-happiness/docs/data_analysis_maiden.ipynb"
   ]
  },
  {
   "cell_type": "code",
   "execution_count": 39,
   "id": "29e75bf6",
   "metadata": {},
   "outputs": [],
   "source": [
    "import pandas as pd\n",
    "import numpy as np\n",
    "from html.parser import HTMLParser\n",
    "from bs4 import BeautifulSoup\n",
    "from bs4 import BeautifulSoup as bs\n",
    "import urllib.request\n",
    "import requests\n",
    "import re\n",
    "import random\n",
    "import os.path"
   ]
  },
  {
   "cell_type": "code",
   "execution_count": 2,
   "id": "166c1aa1",
   "metadata": {},
   "outputs": [],
   "source": [
    "#Spotify API Key Info\n",
    "CLIENT_ID = 'xxx'\n",
    "CLIENT_SECRET = 'yyy'"
   ]
  },
  {
   "cell_type": "markdown",
   "id": "7571ca95",
   "metadata": {},
   "source": [
    "##### Luiz's Code for Ironmaiden"
   ]
  },
  {
   "cell_type": "code",
   "execution_count": 3,
   "id": "853e3703",
   "metadata": {},
   "outputs": [],
   "source": [
    "AUTH_URL = 'https://accounts.spotify.com/api/token'\n",
    "\n",
    "# POST\n",
    "auth_response = requests.post(AUTH_URL, {\n",
    "    'grant_type': 'client_credentials',\n",
    "    'client_id': CLIENT_ID,\n",
    "    'client_secret': CLIENT_SECRET,\n",
    "})\n",
    "\n",
    "# convert the response to JSON\n",
    "auth_response_data = auth_response.json()\n",
    "\n",
    "# save the access token\n",
    "access_token = auth_response_data['access_token']"
   ]
  },
  {
   "cell_type": "code",
   "execution_count": 4,
   "id": "f2a3eee5",
   "metadata": {},
   "outputs": [],
   "source": [
    "headers = {\n",
    "    'Authorization': 'Bearer {token}'.format(token=access_token)\n",
    "}"
   ]
  },
  {
   "cell_type": "markdown",
   "id": "4d0d5ea4",
   "metadata": {},
   "source": [
    "https://open.spotify.com/playlist/0KCeWE1PBSnvc7vQ0zVIF9?si=a75f51e84b894a3f"
   ]
  },
  {
   "cell_type": "code",
   "execution_count": 5,
   "id": "c5153290",
   "metadata": {},
   "outputs": [],
   "source": [
    "# base URL of all Spotify API endpoints\n",
    "BASE_URL = 'https://api.spotify.com/v1/'\n",
    "\n",
    "# Track ID from the URI\n",
    "track_id = '5HZL0dCma3yL8r9LILJV8S'\n",
    "\n",
    "# actual GET request with proper header\n",
    "r = requests.get(BASE_URL + 'tracks/' + track_id, headers=headers)"
   ]
  },
  {
   "cell_type": "code",
   "execution_count": 6,
   "id": "747e97c8",
   "metadata": {},
   "outputs": [],
   "source": [
    "# r = r.json()\n",
    "# r"
   ]
  },
  {
   "cell_type": "code",
   "execution_count": 7,
   "id": "f3cb8ae0",
   "metadata": {},
   "outputs": [],
   "source": [
    "# # Creating a list of dictionaires that contains every song, audio features \n",
    "# # OBS: popularity and song features are in different parts of the API, so we need to make two different requests.\n",
    "# # audio features like danceability were extracted from BASE_URL + audio_features/ + track id\n",
    "# # track popularity was extracted from BASE_URL + tracks/ + track_id)\n",
    "\n",
    "# data = []   # will hold all track info\n",
    "# albums = [] # to keep track of duplicates\n",
    "# track_info = []\n",
    "# # loop over albums and get all tracks\n",
    "# for album in items:\n",
    "#     album_name = album['name']\n",
    "#     # this takes a few seconds so let's keep track of progress    \n",
    "#     print(album_name)\n",
    "#     # pull all tracks from this album\n",
    "#     r = requests.get(BASE_URL + 'albums/' + album['id'] + '/tracks', \n",
    "#         headers=headers)\n",
    "#     tracks = r.json()['items']\n",
    "\n",
    "#     for track in tracks:\n",
    "# #         print(track['name'])\n",
    "#         # get audio features (key, liveness, danceability, ...)\n",
    "#         f = requests.get(BASE_URL + 'audio-features/' + track['id'], \n",
    "#             headers=headers)\n",
    "#         f2 = requests.get(BASE_URL + 'tracks/' + track['id'], \n",
    "#             headers=headers)\n",
    "#         f = f.json()\n",
    "#         f2 = f2.json()\n",
    "#         print('song name:' + track['name'] + ' and popularity: '+ str(f2['popularity']))\n",
    "# #         print(f'a')\n",
    "#         my_object = {\n",
    "#             \"name\": track['name'],\n",
    "#             \"album_name\": f2['album']['name'],\n",
    "#             \"popularity\": f2[\"popularity\"],\n",
    "#             'release_date': f2['album']['release_date'],\n",
    "#             \"valence\": f[\"valence\"],\n",
    "#             \"danceability\": f['danceability'],\n",
    "#             \"energy\": f['energy'],\n",
    "#             \"danceability\": f['danceability'],\n",
    "#             \"key\": f['key'],\n",
    "#             \"loudness\": f['loudness'],\n",
    "#             \"mode\": f['mode'],\n",
    "#             \"speechiness\": f['speechiness'],\n",
    "#             \"danceability\": f['danceability'],\n",
    "#             \"acousticness\": f['acousticness'],\n",
    "#             \"instrumentalness\": f['instrumentalness'],\n",
    "#             \"liveness\": f['liveness'],\n",
    "#             \"tempo\": f['tempo'],\n",
    "#             \"duration_ms\": f['duration_ms'],\n",
    "#             \"danceability\": f['danceability']\n",
    "#                     }\n",
    "  \n",
    "#         track_info.append(my_object)\n",
    "# #         data.append(f)\n",
    "# track_info\n",
    "\n",
    "#       # combine with album info\n",
    "# #         f.update({\n",
    "# #             'track_name': track['name'],\n",
    "# #             'album_name': album_name,\n",
    "# # #             'short_album_name': trim_name,\n",
    "# # #             'release_date': album['release_date'],\n",
    "# #             'album_id': album['id']\n",
    "# #         })"
   ]
  },
  {
   "cell_type": "code",
   "execution_count": 8,
   "id": "60b650d1",
   "metadata": {},
   "outputs": [],
   "source": [
    "# # turn everything into a single table\n",
    "\n",
    "# df = pd.DataFrame(track_info)\n",
    "# len(df)"
   ]
  },
  {
   "cell_type": "code",
   "execution_count": 9,
   "id": "493bd7a3",
   "metadata": {},
   "outputs": [],
   "source": [
    "# # how the dataframe looks like\n",
    "# df.head(5)"
   ]
  },
  {
   "cell_type": "code",
   "execution_count": 10,
   "id": "62db3e22",
   "metadata": {},
   "outputs": [],
   "source": [
    "# # fix the release_date column\n",
    "# df.release_date = pd.to_datetime(df.release_date)\n",
    "# df['year'] = pd.DatetimeIndex(df['release_date']).year\n",
    "# df.head(1)"
   ]
  },
  {
   "cell_type": "code",
   "execution_count": null,
   "id": "e720d36c",
   "metadata": {},
   "outputs": [],
   "source": []
  },
  {
   "cell_type": "markdown",
   "id": "8f0162ca",
   "metadata": {},
   "source": [
    "##### Playlists?"
   ]
  },
  {
   "cell_type": "markdown",
   "id": "224945b5",
   "metadata": {},
   "source": [
    "https://open.spotify.com/embed/playlist/0KCeWE1PBSnvc7vQ0zVIF9?utm_source=generator\n",
    "https://open.spotify.com/playlist/0KCeWE1PBSnvc7vQ0zVIF9?si=df2f821abd664a18\n",
    "\n",
    "6215 songs\n",
    "\n",
    "\n",
    "https://open.spotify.com/playlist/5w8yHt8baxZkcdutL08dXo?si=2252553ab0024b43\n",
    "\n",
    "\n",
    "https://open.spotify.com/playlist/6vs8rm7fNDfBbkzmsk6Irt?si=12e53392d9e948be\n",
    "\n",
    "https://open.spotify.com/playlist/7v7b4UWOJUKAS5i6LcC89E?si=6b1446e413604f97\n",
    "\n",
    "https://open.spotify.com/playlist/1SKLAPuzxziO0XKarfcAtx?si=6622fa8979544023\n",
    "\n",
    "https://open.spotify.com/playlist/7wqBqgQUybc4hEWttbuGcv?si=b270b096e4be4e7c\n",
    "\n",
    "https://open.spotify.com/playlist/2NLkq6tEeYzynENQ9rXIJ7?si=3a8bcf5037f544a2\n"
   ]
  },
  {
   "cell_type": "markdown",
   "id": "b5bba915",
   "metadata": {},
   "source": [
    "Greatest Horror Movie Soundtracks: <br>\n",
    "    https://www.classicfm.com/discover-music/periods-genres/film-tv/scariest-horror-soundtracks-music-scores/ <br>\n",
    "    https://www.rollingstone.com/music/music-lists/35-greatest-horror-soundtracks-modern-masters-gatekeepers-choose-126190/ <br>\n",
    "    https://www.redbull.com/gb-en/chilling-horror-movie-soundtracks <br>\n",
    "    https://blog.discogs.com/en/most-collected-horror-movie-soundtracks/ <br>\n",
    "    https://www.factmag.com/2014/10/28/the-100-greatest-horror-soundtracks/ <br>\n",
    "    https://www.factmag.com/2014/10/28/stream-facts-100-greatest-horror-soundtracks-as-a-single-youtube-playlist/ <br>\n",
    "    https://open.spotify.com/playlist/19nbalrVKn6nltR7sI2AHR <br>\n",
    "    "
   ]
  },
  {
   "cell_type": "markdown",
   "id": "7f9bc338",
   "metadata": {},
   "source": [
    "##### Accessing Playlists?"
   ]
  },
  {
   "cell_type": "code",
   "execution_count": 11,
   "id": "d9373dc1",
   "metadata": {},
   "outputs": [],
   "source": [
    "AUTH_URL = 'https://accounts.spotify.com/api/token'\n",
    "\n",
    "# POST\n",
    "auth_response = requests.post(AUTH_URL, {\n",
    "    'grant_type': 'client_credentials',\n",
    "    'client_id': CLIENT_ID,\n",
    "    'client_secret': CLIENT_SECRET,\n",
    "})\n",
    "\n",
    "# convert the response to JSON\n",
    "auth_response_data = auth_response.json()\n",
    "\n",
    "# save the access token\n",
    "access_token = auth_response_data['access_token']"
   ]
  },
  {
   "cell_type": "code",
   "execution_count": 12,
   "id": "938f6eff",
   "metadata": {},
   "outputs": [],
   "source": [
    "headers = {\n",
    "    'Authorization': 'Bearer {token}'.format(token=access_token)\n",
    "}"
   ]
  },
  {
   "cell_type": "markdown",
   "id": "c0877313",
   "metadata": {},
   "source": [
    "https://developer.spotify.com/documentation/web-api/reference/#/operations/get-playlist <br> \n",
    "Endpoint\thttps://api.spotify.com/v1/playlists/{playlist_id}\n"
   ]
  },
  {
   "cell_type": "code",
   "execution_count": 13,
   "id": "a4e0ed8c",
   "metadata": {},
   "outputs": [],
   "source": [
    "# https://open.spotify.com/playlist/0KCeWE1PBSnvc7vQ0zVIF9?si=a462b83946bb4c78"
   ]
  },
  {
   "cell_type": "markdown",
   "id": "29696f88",
   "metadata": {},
   "source": [
    "The resource identifier that you can enter, for example, in the Spotify Desktop client’s search box to locate an artist, album, or track. To find a Spotify URI simply right-click (on Windows) or Ctrl-Click (on a Mac) on the artist’s or album’s or track’s name."
   ]
  },
  {
   "cell_type": "markdown",
   "id": "4b5336ac",
   "metadata": {},
   "source": [
    "### Testing with Horror Movie Soundtrack Playlist"
   ]
  },
  {
   "cell_type": "markdown",
   "id": "668296e0",
   "metadata": {},
   "source": [
    "##### Accessing Playlist of Horror Movies, Getting URI for each track on playlist"
   ]
  },
  {
   "cell_type": "code",
   "execution_count": 14,
   "id": "2fd3e087",
   "metadata": {},
   "outputs": [],
   "source": [
    "# https://open.spotify.com/playlist/0KCeWE1PBSnvc7vQ0zVIF9?si=1483954f302c4d24"
   ]
  },
  {
   "cell_type": "code",
   "execution_count": 15,
   "id": "33041ce4",
   "metadata": {},
   "outputs": [],
   "source": [
    "# base URL of all Spotify API endpoints\n",
    "BASE_URL = 'https://api.spotify.com/v1/'\n",
    "\n",
    "# Track ID from the URI\n",
    "playlist_id = '0KCeWE1PBSnvc7vQ0zVIF9'\n",
    "\n",
    "# actual GET request with proper header\n",
    "r = requests.get(BASE_URL + 'playlists/' + playlist_id, headers=headers)"
   ]
  },
  {
   "cell_type": "code",
   "execution_count": 16,
   "id": "e6a161cc",
   "metadata": {},
   "outputs": [],
   "source": [
    "r = r.json()\n",
    "# r"
   ]
  },
  {
   "cell_type": "code",
   "execution_count": 17,
   "id": "6dc7647b",
   "metadata": {},
   "outputs": [],
   "source": [
    "# r['collaborative']"
   ]
  },
  {
   "cell_type": "code",
   "execution_count": 18,
   "id": "603a34ec",
   "metadata": {},
   "outputs": [],
   "source": [
    "# r['tracks']"
   ]
  },
  {
   "cell_type": "code",
   "execution_count": 19,
   "id": "2eb94b08",
   "metadata": {},
   "outputs": [],
   "source": [
    "# r['tracks']['href']"
   ]
  },
  {
   "cell_type": "code",
   "execution_count": 20,
   "id": "14051cae",
   "metadata": {},
   "outputs": [],
   "source": [
    "# r['tracks']['items']"
   ]
  },
  {
   "cell_type": "code",
   "execution_count": 21,
   "id": "6b3478ec",
   "metadata": {},
   "outputs": [],
   "source": [
    "# for a in r['tracks']['items']:\n",
    "# #     if \n",
    "#     print(a['track']['id'])\n",
    "#     print(a['track']['name'])\n",
    "#     print(a['track']['uri'])\n",
    "#     print(a['track']['external_urls'])\n",
    "#     print(a['track']['href'])\n",
    "#     print(a['track']['preview_url'])"
   ]
  },
  {
   "cell_type": "code",
   "execution_count": 22,
   "id": "4aa53ba2",
   "metadata": {},
   "outputs": [],
   "source": [
    "ls = []"
   ]
  },
  {
   "cell_type": "code",
   "execution_count": 23,
   "id": "8cd489b1",
   "metadata": {},
   "outputs": [],
   "source": [
    "preview_urls = []"
   ]
  },
  {
   "cell_type": "code",
   "execution_count": 24,
   "id": "2ed8d27b",
   "metadata": {},
   "outputs": [],
   "source": [
    "for a in r['tracks']['items']:\n",
    "    ls.append([a['track']['name'], a['track']['id'], a['track']['preview_url'], a['track']['uri'], a['track']['external_urls'], a['track']['href']])\n",
    "    preview_urls.append(a['track']['preview_url'])"
   ]
  },
  {
   "cell_type": "code",
   "execution_count": 25,
   "id": "c7a7867a",
   "metadata": {},
   "outputs": [],
   "source": [
    "# ls"
   ]
  },
  {
   "cell_type": "code",
   "execution_count": 26,
   "id": "f614c0d5",
   "metadata": {},
   "outputs": [
    {
     "data": {
      "text/plain": [
       "100"
      ]
     },
     "execution_count": 26,
     "metadata": {},
     "output_type": "execute_result"
    }
   ],
   "source": [
    "len(ls)"
   ]
  },
  {
   "cell_type": "code",
   "execution_count": 27,
   "id": "11d5eb79",
   "metadata": {},
   "outputs": [],
   "source": [
    "# preview_urls"
   ]
  },
  {
   "cell_type": "code",
   "execution_count": 28,
   "id": "0b241d52",
   "metadata": {},
   "outputs": [
    {
     "data": {
      "text/plain": [
       "100"
      ]
     },
     "execution_count": 28,
     "metadata": {},
     "output_type": "execute_result"
    }
   ],
   "source": [
    "# turn everything into a single table\n",
    "\n",
    "df = pd.DataFrame(preview_urls)\n",
    "len(df)"
   ]
  },
  {
   "cell_type": "code",
   "execution_count": 29,
   "id": "ec2a518e",
   "metadata": {},
   "outputs": [
    {
     "data": {
      "text/html": [
       "<div>\n",
       "<style scoped>\n",
       "    .dataframe tbody tr th:only-of-type {\n",
       "        vertical-align: middle;\n",
       "    }\n",
       "\n",
       "    .dataframe tbody tr th {\n",
       "        vertical-align: top;\n",
       "    }\n",
       "\n",
       "    .dataframe thead th {\n",
       "        text-align: right;\n",
       "    }\n",
       "</style>\n",
       "<table border=\"1\" class=\"dataframe\">\n",
       "  <thead>\n",
       "    <tr style=\"text-align: right;\">\n",
       "      <th></th>\n",
       "      <th>0</th>\n",
       "    </tr>\n",
       "  </thead>\n",
       "  <tbody>\n",
       "    <tr>\n",
       "      <th>0</th>\n",
       "      <td>https://p.scdn.co/mp3-preview/7533f18e00ab0ccd...</td>\n",
       "    </tr>\n",
       "    <tr>\n",
       "      <th>1</th>\n",
       "      <td>https://p.scdn.co/mp3-preview/79b1af39bde4e8d8...</td>\n",
       "    </tr>\n",
       "    <tr>\n",
       "      <th>2</th>\n",
       "      <td>None</td>\n",
       "    </tr>\n",
       "    <tr>\n",
       "      <th>3</th>\n",
       "      <td>None</td>\n",
       "    </tr>\n",
       "    <tr>\n",
       "      <th>4</th>\n",
       "      <td>https://p.scdn.co/mp3-preview/9f8c577f8a0ceff1...</td>\n",
       "    </tr>\n",
       "  </tbody>\n",
       "</table>\n",
       "</div>"
      ],
      "text/plain": [
       "                                                   0\n",
       "0  https://p.scdn.co/mp3-preview/7533f18e00ab0ccd...\n",
       "1  https://p.scdn.co/mp3-preview/79b1af39bde4e8d8...\n",
       "2                                               None\n",
       "3                                               None\n",
       "4  https://p.scdn.co/mp3-preview/9f8c577f8a0ceff1..."
      ]
     },
     "execution_count": 29,
     "metadata": {},
     "output_type": "execute_result"
    }
   ],
   "source": [
    "# how the dataframe looks like\n",
    "df.head(5)"
   ]
  },
  {
   "cell_type": "code",
   "execution_count": 31,
   "id": "06c9987e",
   "metadata": {},
   "outputs": [],
   "source": [
    "# saving the dataframe \n",
    "# df.to_csv('../data/source/spotify/preview-urls.csv') "
   ]
  },
  {
   "cell_type": "code",
   "execution_count": 52,
   "id": "bf41bb73",
   "metadata": {},
   "outputs": [],
   "source": [
    "df_edited = df.dropna()"
   ]
  },
  {
   "cell_type": "code",
   "execution_count": 57,
   "id": "55e581d7",
   "metadata": {},
   "outputs": [],
   "source": [
    "# df_edited[0]"
   ]
  },
  {
   "cell_type": "code",
   "execution_count": 58,
   "id": "63631d6c",
   "metadata": {},
   "outputs": [],
   "source": [
    "preview_urls = df_edited[0].tolist()"
   ]
  },
  {
   "cell_type": "code",
   "execution_count": 61,
   "id": "ef4c7c9e",
   "metadata": {},
   "outputs": [
    {
     "data": {
      "text/plain": [
       "['https://p.scdn.co/mp3-preview/7533f18e00ab0ccd738da201f5e5a8e81923fbab?cid=75579ceb85c84be6aa6000f9d07c0540',\n",
       " 'https://p.scdn.co/mp3-preview/79b1af39bde4e8d8fbe0482b78901094d1306772?cid=75579ceb85c84be6aa6000f9d07c0540',\n",
       " 'https://p.scdn.co/mp3-preview/9f8c577f8a0ceff1176b560d9b7cb849e5b621b2?cid=75579ceb85c84be6aa6000f9d07c0540']"
      ]
     },
     "execution_count": 61,
     "metadata": {},
     "output_type": "execute_result"
    }
   ],
   "source": [
    "preview_urls[0:3]"
   ]
  },
  {
   "cell_type": "markdown",
   "id": "48d59e6d",
   "metadata": {},
   "source": [
    "##### Downloading URLS en masse"
   ]
  },
  {
   "cell_type": "code",
   "execution_count": 62,
   "id": "132ffc80",
   "metadata": {},
   "outputs": [],
   "source": [
    "test_track1 = 'https://p.scdn.co/mp3-preview/7533f18e00ab0ccd738da201f5e5a8e81923fbab?cid=75579ceb85c84be6aa6000f9d07c0540'"
   ]
  },
  {
   "cell_type": "code",
   "execution_count": 63,
   "id": "ed7caf78",
   "metadata": {},
   "outputs": [],
   "source": [
    "url_stem = \"https://\""
   ]
  },
  {
   "cell_type": "code",
   "execution_count": 64,
   "id": "1ebde7e3",
   "metadata": {},
   "outputs": [],
   "source": [
    "ls_bad = []"
   ]
  },
  {
   "cell_type": "markdown",
   "id": "9c08d2c3",
   "metadata": {},
   "source": [
    "Reference: https://stackoverflow.com/questions/59539194/how-to-download-all-mp3-url-as-mp3-from-a-webpage-using-python3"
   ]
  },
  {
   "cell_type": "code",
   "execution_count": 69,
   "id": "ad09ef9e",
   "metadata": {},
   "outputs": [
    {
     "name": "stderr",
     "output_type": "stream",
     "text": [
      "Some characters could not be decoded, and were replaced with REPLACEMENT CHARACTER.\n",
      "Some characters could not be decoded, and were replaced with REPLACEMENT CHARACTER.\n",
      "Some characters could not be decoded, and were replaced with REPLACEMENT CHARACTER.\n",
      "Some characters could not be decoded, and were replaced with REPLACEMENT CHARACTER.\n"
     ]
    }
   ],
   "source": [
    "for page in preview_urls[0:4]:\n",
    "    r = requests.get(page)\n",
    "    soup = BeautifulSoup(r.content, 'html.parser')\n",
    "    for a in soup.find_all('a', href=re.compile(r'http.*\\.mp3')):\n",
    "        filename = output.mp3\n",
    "        doc = requests.get(a['href'])\n",
    "        with open(filename, 'wb') as f:\n",
    "            f.write(doc.content)"
   ]
  },
  {
   "cell_type": "code",
   "execution_count": null,
   "id": "5a0f0000",
   "metadata": {},
   "outputs": [],
   "source": [
    "# for page in preview_urls[0:4]:\n",
    "#     r = requests.get(page)\n",
    "#     soup = BeautifulSoup(r.content, 'html.parser')\n",
    "#     for a in soup.find_all('a', href=re.compile(r'http.*\\.mp3')):\n",
    "#         filename = a['href'][a['href'].rfind(\"/\")+1:]\n",
    "#         doc = requests.get(a['href'])\n",
    "#         with open(filename, 'wb') as f:\n",
    "#             f.write(doc.content)"
   ]
  },
  {
   "cell_type": "code",
   "execution_count": 65,
   "id": "b0d225b4",
   "metadata": {},
   "outputs": [],
   "source": [
    "# for page in preview_urls:\n",
    "#     if page.startswith(url_stem):\n",
    "#         r = requests.get(url)\n",
    "#         soup = BeautifulSoup(r.content, 'html.parser')\n",
    "#         for a in soup.find_all('a', href=re.compile(r'http.*\\.mp3')):\n",
    "#             filename = a['href'][a['href'].rfind(\"/\")+1:]\n",
    "#             doc = requests.get(a['href'])\n",
    "#             with open(filename, 'wb') as f:\n",
    "#                 f.write(doc.content)\n",
    "#     else:\n",
    "#        ls_bad.append() "
   ]
  },
  {
   "cell_type": "code",
   "execution_count": null,
   "id": "32e19826",
   "metadata": {},
   "outputs": [],
   "source": [
    "import requests\n",
    "import urllib.request\n",
    "import re\n",
    "from bs4 import BeautifulSoup\n",
    "\n",
    "r = requests.get(url)\n",
    "soup = BeautifulSoup(r.content, 'html.parser')\n",
    "\n",
    "for a in soup.find_all('a', href=re.compile(r'http.*\\.mp3')):\n",
    "    filename = a['href'][a['href'].rfind(\"/\")+1:]\n",
    "    doc = requests.get(a['href'])\n",
    "    with open(filename, 'wb') as f:\n",
    "        f.write(doc.content)"
   ]
  },
  {
   "cell_type": "code",
   "execution_count": null,
   "id": "20d55f0b",
   "metadata": {},
   "outputs": [],
   "source": []
  },
  {
   "cell_type": "code",
   "execution_count": null,
   "id": "61eb84d7",
   "metadata": {},
   "outputs": [],
   "source": []
  },
  {
   "cell_type": "code",
   "execution_count": null,
   "id": "d5347680",
   "metadata": {},
   "outputs": [],
   "source": []
  },
  {
   "cell_type": "code",
   "execution_count": null,
   "id": "e2604877",
   "metadata": {},
   "outputs": [],
   "source": []
  },
  {
   "cell_type": "markdown",
   "id": "cf4e56c6",
   "metadata": {},
   "source": [
    "##### Using list of URIS (each track) getting track (particularly 30 sec preview)"
   ]
  },
  {
   "cell_type": "markdown",
   "id": "07cb9109",
   "metadata": {},
   "source": [
    "Reference: Get Track <br>\n",
    "https://developer.spotify.com/documentation/web-api/reference/#/operations/get-track"
   ]
  },
  {
   "cell_type": "markdown",
   "id": "71c44809",
   "metadata": {},
   "source": [
    "https://api.spotify.com/v1/tracks/{id}\n",
    "\n",
    "preview_url — \n",
    "string\n",
    "— A link to a 30 second preview (MP3 format) of the track. Can be null"
   ]
  },
  {
   "cell_type": "code",
   "execution_count": null,
   "id": "2fd93164",
   "metadata": {},
   "outputs": [],
   "source": []
  },
  {
   "cell_type": "code",
   "execution_count": null,
   "id": "c988a505",
   "metadata": {},
   "outputs": [],
   "source": []
  },
  {
   "cell_type": "code",
   "execution_count": null,
   "id": "7e5222e1",
   "metadata": {},
   "outputs": [],
   "source": []
  },
  {
   "cell_type": "code",
   "execution_count": null,
   "id": "7b963a5c",
   "metadata": {},
   "outputs": [],
   "source": []
  },
  {
   "cell_type": "code",
   "execution_count": null,
   "id": "6ca37335",
   "metadata": {},
   "outputs": [],
   "source": []
  },
  {
   "cell_type": "markdown",
   "id": "46f66343",
   "metadata": {},
   "source": [
    "Python Code to add songs to a Spotify playlist using Selenium <br>\n",
    "https://stackoverflow.com/questions/58894241/python-code-to-add-songs-to-a-spotify-playlist-using-selenium"
   ]
  },
  {
   "cell_type": "code",
   "execution_count": null,
   "id": "6bb56b5e",
   "metadata": {},
   "outputs": [],
   "source": []
  }
 ],
 "metadata": {
  "kernelspec": {
   "display_name": "Python 3 (ipykernel)",
   "language": "python",
   "name": "python3"
  },
  "language_info": {
   "codemirror_mode": {
    "name": "ipython",
    "version": 3
   },
   "file_extension": ".py",
   "mimetype": "text/x-python",
   "name": "python",
   "nbconvert_exporter": "python",
   "pygments_lexer": "ipython3",
   "version": "3.10.0"
  }
 },
 "nbformat": 4,
 "nbformat_minor": 5
}
